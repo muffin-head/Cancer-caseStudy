{
  "nbformat": 4,
  "nbformat_minor": 0,
  "metadata": {
    "colab": {
      "provenance": [],
      "authorship_tag": "ABX9TyNieo3TWjU9pG1YHhdVMsv/",
      "include_colab_link": true
    },
    "kernelspec": {
      "name": "python3",
      "display_name": "Python 3"
    },
    "language_info": {
      "name": "python"
    }
  },
  "cells": [
    {
      "cell_type": "markdown",
      "metadata": {
        "id": "view-in-github",
        "colab_type": "text"
      },
      "source": [
        "<a href=\"https://colab.research.google.com/github/muffin-head/Cancer-caseStudy/blob/Univariate-analysis/Cancer_caseStudy.ipynb\" target=\"_parent\"><img src=\"https://colab.research.google.com/assets/colab-badge.svg\" alt=\"Open In Colab\"/></a>"
      ]
    },
    {
      "cell_type": "code",
      "execution_count": 38,
      "metadata": {
        "colab": {
          "base_uri": "https://localhost:8080/"
        },
        "id": "gdn2K3QurQPB",
        "outputId": "fc19b52b-61f6-4d07-ad1c-07de28e6d3c0"
      },
      "outputs": [
        {
          "output_type": "stream",
          "name": "stdout",
          "text": [
            "Drive already mounted at /content/drive; to attempt to forcibly remount, call drive.mount(\"/content/drive\", force_remount=True).\n"
          ]
        }
      ],
      "source": [
        "from google.colab import drive\n",
        "drive.mount('/content/drive')"
      ]
    },
    {
      "cell_type": "markdown",
      "source": [
        "# Importing data"
      ],
      "metadata": {
        "id": "jZTvTFcWrhzI"
      }
    },
    {
      "cell_type": "code",
      "source": [
        "import pandas as pd\n",
        "text_data= pd.read_csv('/content/drive/MyDrive/data cancer/training_text/training_text',sep=\"\\|\\|\",engine=\"python\",names=[\"ID\",\"TEXT\"],skiprows=1)\n",
        "text_data.head()"
      ],
      "metadata": {
        "colab": {
          "base_uri": "https://localhost:8080/",
          "height": 206
        },
        "id": "1gKEampwrYIX",
        "outputId": "f0bf1bf2-fa5e-4757-f217-aae69d2c68ba"
      },
      "execution_count": 39,
      "outputs": [
        {
          "output_type": "execute_result",
          "data": {
            "text/plain": [
              "   ID                                               TEXT\n",
              "0   0  Cyclin-dependent kinases (CDKs) regulate a var...\n",
              "1   1   Abstract Background  Non-small cell lung canc...\n",
              "2   2   Abstract Background  Non-small cell lung canc...\n",
              "3   3  Recent evidence has demonstrated that acquired...\n",
              "4   4  Oncogenic mutations in the monomeric Casitas B..."
            ],
            "text/html": [
              "\n",
              "  <div id=\"df-6ee3c76c-73ed-42e6-8a3a-b0213a2116f1\" class=\"colab-df-container\">\n",
              "    <div>\n",
              "<style scoped>\n",
              "    .dataframe tbody tr th:only-of-type {\n",
              "        vertical-align: middle;\n",
              "    }\n",
              "\n",
              "    .dataframe tbody tr th {\n",
              "        vertical-align: top;\n",
              "    }\n",
              "\n",
              "    .dataframe thead th {\n",
              "        text-align: right;\n",
              "    }\n",
              "</style>\n",
              "<table border=\"1\" class=\"dataframe\">\n",
              "  <thead>\n",
              "    <tr style=\"text-align: right;\">\n",
              "      <th></th>\n",
              "      <th>ID</th>\n",
              "      <th>TEXT</th>\n",
              "    </tr>\n",
              "  </thead>\n",
              "  <tbody>\n",
              "    <tr>\n",
              "      <th>0</th>\n",
              "      <td>0</td>\n",
              "      <td>Cyclin-dependent kinases (CDKs) regulate a var...</td>\n",
              "    </tr>\n",
              "    <tr>\n",
              "      <th>1</th>\n",
              "      <td>1</td>\n",
              "      <td>Abstract Background  Non-small cell lung canc...</td>\n",
              "    </tr>\n",
              "    <tr>\n",
              "      <th>2</th>\n",
              "      <td>2</td>\n",
              "      <td>Abstract Background  Non-small cell lung canc...</td>\n",
              "    </tr>\n",
              "    <tr>\n",
              "      <th>3</th>\n",
              "      <td>3</td>\n",
              "      <td>Recent evidence has demonstrated that acquired...</td>\n",
              "    </tr>\n",
              "    <tr>\n",
              "      <th>4</th>\n",
              "      <td>4</td>\n",
              "      <td>Oncogenic mutations in the monomeric Casitas B...</td>\n",
              "    </tr>\n",
              "  </tbody>\n",
              "</table>\n",
              "</div>\n",
              "    <div class=\"colab-df-buttons\">\n",
              "\n",
              "  <div class=\"colab-df-container\">\n",
              "    <button class=\"colab-df-convert\" onclick=\"convertToInteractive('df-6ee3c76c-73ed-42e6-8a3a-b0213a2116f1')\"\n",
              "            title=\"Convert this dataframe to an interactive table.\"\n",
              "            style=\"display:none;\">\n",
              "\n",
              "  <svg xmlns=\"http://www.w3.org/2000/svg\" height=\"24px\" viewBox=\"0 -960 960 960\">\n",
              "    <path d=\"M120-120v-720h720v720H120Zm60-500h600v-160H180v160Zm220 220h160v-160H400v160Zm0 220h160v-160H400v160ZM180-400h160v-160H180v160Zm440 0h160v-160H620v160ZM180-180h160v-160H180v160Zm440 0h160v-160H620v160Z\"/>\n",
              "  </svg>\n",
              "    </button>\n",
              "\n",
              "  <style>\n",
              "    .colab-df-container {\n",
              "      display:flex;\n",
              "      gap: 12px;\n",
              "    }\n",
              "\n",
              "    .colab-df-convert {\n",
              "      background-color: #E8F0FE;\n",
              "      border: none;\n",
              "      border-radius: 50%;\n",
              "      cursor: pointer;\n",
              "      display: none;\n",
              "      fill: #1967D2;\n",
              "      height: 32px;\n",
              "      padding: 0 0 0 0;\n",
              "      width: 32px;\n",
              "    }\n",
              "\n",
              "    .colab-df-convert:hover {\n",
              "      background-color: #E2EBFA;\n",
              "      box-shadow: 0px 1px 2px rgba(60, 64, 67, 0.3), 0px 1px 3px 1px rgba(60, 64, 67, 0.15);\n",
              "      fill: #174EA6;\n",
              "    }\n",
              "\n",
              "    .colab-df-buttons div {\n",
              "      margin-bottom: 4px;\n",
              "    }\n",
              "\n",
              "    [theme=dark] .colab-df-convert {\n",
              "      background-color: #3B4455;\n",
              "      fill: #D2E3FC;\n",
              "    }\n",
              "\n",
              "    [theme=dark] .colab-df-convert:hover {\n",
              "      background-color: #434B5C;\n",
              "      box-shadow: 0px 1px 3px 1px rgba(0, 0, 0, 0.15);\n",
              "      filter: drop-shadow(0px 1px 2px rgba(0, 0, 0, 0.3));\n",
              "      fill: #FFFFFF;\n",
              "    }\n",
              "  </style>\n",
              "\n",
              "    <script>\n",
              "      const buttonEl =\n",
              "        document.querySelector('#df-6ee3c76c-73ed-42e6-8a3a-b0213a2116f1 button.colab-df-convert');\n",
              "      buttonEl.style.display =\n",
              "        google.colab.kernel.accessAllowed ? 'block' : 'none';\n",
              "\n",
              "      async function convertToInteractive(key) {\n",
              "        const element = document.querySelector('#df-6ee3c76c-73ed-42e6-8a3a-b0213a2116f1');\n",
              "        const dataTable =\n",
              "          await google.colab.kernel.invokeFunction('convertToInteractive',\n",
              "                                                    [key], {});\n",
              "        if (!dataTable) return;\n",
              "\n",
              "        const docLinkHtml = 'Like what you see? Visit the ' +\n",
              "          '<a target=\"_blank\" href=https://colab.research.google.com/notebooks/data_table.ipynb>data table notebook</a>'\n",
              "          + ' to learn more about interactive tables.';\n",
              "        element.innerHTML = '';\n",
              "        dataTable['output_type'] = 'display_data';\n",
              "        await google.colab.output.renderOutput(dataTable, element);\n",
              "        const docLink = document.createElement('div');\n",
              "        docLink.innerHTML = docLinkHtml;\n",
              "        element.appendChild(docLink);\n",
              "      }\n",
              "    </script>\n",
              "  </div>\n",
              "\n",
              "\n",
              "<div id=\"df-936c5ffb-8587-4d21-855c-4ececc020358\">\n",
              "  <button class=\"colab-df-quickchart\" onclick=\"quickchart('df-936c5ffb-8587-4d21-855c-4ececc020358')\"\n",
              "            title=\"Suggest charts\"\n",
              "            style=\"display:none;\">\n",
              "\n",
              "<svg xmlns=\"http://www.w3.org/2000/svg\" height=\"24px\"viewBox=\"0 0 24 24\"\n",
              "     width=\"24px\">\n",
              "    <g>\n",
              "        <path d=\"M19 3H5c-1.1 0-2 .9-2 2v14c0 1.1.9 2 2 2h14c1.1 0 2-.9 2-2V5c0-1.1-.9-2-2-2zM9 17H7v-7h2v7zm4 0h-2V7h2v10zm4 0h-2v-4h2v4z\"/>\n",
              "    </g>\n",
              "</svg>\n",
              "  </button>\n",
              "\n",
              "<style>\n",
              "  .colab-df-quickchart {\n",
              "      --bg-color: #E8F0FE;\n",
              "      --fill-color: #1967D2;\n",
              "      --hover-bg-color: #E2EBFA;\n",
              "      --hover-fill-color: #174EA6;\n",
              "      --disabled-fill-color: #AAA;\n",
              "      --disabled-bg-color: #DDD;\n",
              "  }\n",
              "\n",
              "  [theme=dark] .colab-df-quickchart {\n",
              "      --bg-color: #3B4455;\n",
              "      --fill-color: #D2E3FC;\n",
              "      --hover-bg-color: #434B5C;\n",
              "      --hover-fill-color: #FFFFFF;\n",
              "      --disabled-bg-color: #3B4455;\n",
              "      --disabled-fill-color: #666;\n",
              "  }\n",
              "\n",
              "  .colab-df-quickchart {\n",
              "    background-color: var(--bg-color);\n",
              "    border: none;\n",
              "    border-radius: 50%;\n",
              "    cursor: pointer;\n",
              "    display: none;\n",
              "    fill: var(--fill-color);\n",
              "    height: 32px;\n",
              "    padding: 0;\n",
              "    width: 32px;\n",
              "  }\n",
              "\n",
              "  .colab-df-quickchart:hover {\n",
              "    background-color: var(--hover-bg-color);\n",
              "    box-shadow: 0 1px 2px rgba(60, 64, 67, 0.3), 0 1px 3px 1px rgba(60, 64, 67, 0.15);\n",
              "    fill: var(--button-hover-fill-color);\n",
              "  }\n",
              "\n",
              "  .colab-df-quickchart-complete:disabled,\n",
              "  .colab-df-quickchart-complete:disabled:hover {\n",
              "    background-color: var(--disabled-bg-color);\n",
              "    fill: var(--disabled-fill-color);\n",
              "    box-shadow: none;\n",
              "  }\n",
              "\n",
              "  .colab-df-spinner {\n",
              "    border: 2px solid var(--fill-color);\n",
              "    border-color: transparent;\n",
              "    border-bottom-color: var(--fill-color);\n",
              "    animation:\n",
              "      spin 1s steps(1) infinite;\n",
              "  }\n",
              "\n",
              "  @keyframes spin {\n",
              "    0% {\n",
              "      border-color: transparent;\n",
              "      border-bottom-color: var(--fill-color);\n",
              "      border-left-color: var(--fill-color);\n",
              "    }\n",
              "    20% {\n",
              "      border-color: transparent;\n",
              "      border-left-color: var(--fill-color);\n",
              "      border-top-color: var(--fill-color);\n",
              "    }\n",
              "    30% {\n",
              "      border-color: transparent;\n",
              "      border-left-color: var(--fill-color);\n",
              "      border-top-color: var(--fill-color);\n",
              "      border-right-color: var(--fill-color);\n",
              "    }\n",
              "    40% {\n",
              "      border-color: transparent;\n",
              "      border-right-color: var(--fill-color);\n",
              "      border-top-color: var(--fill-color);\n",
              "    }\n",
              "    60% {\n",
              "      border-color: transparent;\n",
              "      border-right-color: var(--fill-color);\n",
              "    }\n",
              "    80% {\n",
              "      border-color: transparent;\n",
              "      border-right-color: var(--fill-color);\n",
              "      border-bottom-color: var(--fill-color);\n",
              "    }\n",
              "    90% {\n",
              "      border-color: transparent;\n",
              "      border-bottom-color: var(--fill-color);\n",
              "    }\n",
              "  }\n",
              "</style>\n",
              "\n",
              "  <script>\n",
              "    async function quickchart(key) {\n",
              "      const quickchartButtonEl =\n",
              "        document.querySelector('#' + key + ' button');\n",
              "      quickchartButtonEl.disabled = true;  // To prevent multiple clicks.\n",
              "      quickchartButtonEl.classList.add('colab-df-spinner');\n",
              "      try {\n",
              "        const charts = await google.colab.kernel.invokeFunction(\n",
              "            'suggestCharts', [key], {});\n",
              "      } catch (error) {\n",
              "        console.error('Error during call to suggestCharts:', error);\n",
              "      }\n",
              "      quickchartButtonEl.classList.remove('colab-df-spinner');\n",
              "      quickchartButtonEl.classList.add('colab-df-quickchart-complete');\n",
              "    }\n",
              "    (() => {\n",
              "      let quickchartButtonEl =\n",
              "        document.querySelector('#df-936c5ffb-8587-4d21-855c-4ececc020358 button');\n",
              "      quickchartButtonEl.style.display =\n",
              "        google.colab.kernel.accessAllowed ? 'block' : 'none';\n",
              "    })();\n",
              "  </script>\n",
              "</div>\n",
              "    </div>\n",
              "  </div>\n"
            ]
          },
          "metadata": {},
          "execution_count": 39
        }
      ]
    },
    {
      "cell_type": "markdown",
      "source": [
        "# Preprocessing"
      ],
      "metadata": {
        "id": "riRF4ddBuNKE"
      }
    },
    {
      "cell_type": "code",
      "source": [
        "from nltk.corpus import stopwords\n",
        "import re\n",
        "import nltk\n",
        "nltk.download('stopwords')\n",
        "stop_word= set(stopwords.words('english'))\n",
        "def preprocessing(text,index,col):\n",
        "  if type(text) is not int:\n",
        "    text_string=\"\"\n",
        "    text = re.sub('[^a-zA-Z0-9\\n]',' ',text)\n",
        "    text=re.sub('\\s+',' ',text)\n",
        "    text=text.lower()\n",
        "    for word in text.split():\n",
        "      if not word in stop_word:\n",
        "        text_string+=word+\" \"\n",
        "    text_data[col][index]=text_string\n"
      ],
      "metadata": {
        "colab": {
          "base_uri": "https://localhost:8080/"
        },
        "id": "JbchahaDsQfg",
        "outputId": "1d58e85a-9751-4ac6-a07f-2cf877bbcbbf"
      },
      "execution_count": 40,
      "outputs": [
        {
          "output_type": "stream",
          "name": "stderr",
          "text": [
            "[nltk_data] Downloading package stopwords to /root/nltk_data...\n",
            "[nltk_data]   Package stopwords is already up-to-date!\n"
          ]
        }
      ]
    },
    {
      "cell_type": "code",
      "source": [
        "\n",
        "for index, row in text_data.iterrows():\n",
        "  if type(row['TEXT']) is str:\n",
        "    preprocessing(row['TEXT'],index,'TEXT')"
      ],
      "metadata": {
        "colab": {
          "base_uri": "https://localhost:8080/"
        },
        "id": "M3Up86zIwIOW",
        "outputId": "f768f504-73f1-4df0-bb05-36730a469c6f"
      },
      "execution_count": 41,
      "outputs": [
        {
          "output_type": "stream",
          "name": "stderr",
          "text": [
            "<ipython-input-40-b4091df54337>:15: SettingWithCopyWarning: \n",
            "A value is trying to be set on a copy of a slice from a DataFrame\n",
            "\n",
            "See the caveats in the documentation: https://pandas.pydata.org/pandas-docs/stable/user_guide/indexing.html#returning-a-view-versus-a-copy\n",
            "  text_data[col][index]=text_string\n"
          ]
        }
      ]
    },
    {
      "cell_type": "code",
      "source": [
        "text_data.head()"
      ],
      "metadata": {
        "colab": {
          "base_uri": "https://localhost:8080/",
          "height": 206
        },
        "id": "mtGDc0-cw1mr",
        "outputId": "ac86b0f7-099c-4ef8-b1aa-8b7ac3588ff6"
      },
      "execution_count": 42,
      "outputs": [
        {
          "output_type": "execute_result",
          "data": {
            "text/plain": [
              "   ID                                               TEXT\n",
              "0   0  cyclin dependent kinases cdks regulate variety...\n",
              "1   1  abstract background non small cell lung cancer...\n",
              "2   2  abstract background non small cell lung cancer...\n",
              "3   3  recent evidence demonstrated acquired uniparen...\n",
              "4   4  oncogenic mutations monomeric casitas b lineag..."
            ],
            "text/html": [
              "\n",
              "  <div id=\"df-c5e763fc-3d47-456c-a213-7d9012fb994a\" class=\"colab-df-container\">\n",
              "    <div>\n",
              "<style scoped>\n",
              "    .dataframe tbody tr th:only-of-type {\n",
              "        vertical-align: middle;\n",
              "    }\n",
              "\n",
              "    .dataframe tbody tr th {\n",
              "        vertical-align: top;\n",
              "    }\n",
              "\n",
              "    .dataframe thead th {\n",
              "        text-align: right;\n",
              "    }\n",
              "</style>\n",
              "<table border=\"1\" class=\"dataframe\">\n",
              "  <thead>\n",
              "    <tr style=\"text-align: right;\">\n",
              "      <th></th>\n",
              "      <th>ID</th>\n",
              "      <th>TEXT</th>\n",
              "    </tr>\n",
              "  </thead>\n",
              "  <tbody>\n",
              "    <tr>\n",
              "      <th>0</th>\n",
              "      <td>0</td>\n",
              "      <td>cyclin dependent kinases cdks regulate variety...</td>\n",
              "    </tr>\n",
              "    <tr>\n",
              "      <th>1</th>\n",
              "      <td>1</td>\n",
              "      <td>abstract background non small cell lung cancer...</td>\n",
              "    </tr>\n",
              "    <tr>\n",
              "      <th>2</th>\n",
              "      <td>2</td>\n",
              "      <td>abstract background non small cell lung cancer...</td>\n",
              "    </tr>\n",
              "    <tr>\n",
              "      <th>3</th>\n",
              "      <td>3</td>\n",
              "      <td>recent evidence demonstrated acquired uniparen...</td>\n",
              "    </tr>\n",
              "    <tr>\n",
              "      <th>4</th>\n",
              "      <td>4</td>\n",
              "      <td>oncogenic mutations monomeric casitas b lineag...</td>\n",
              "    </tr>\n",
              "  </tbody>\n",
              "</table>\n",
              "</div>\n",
              "    <div class=\"colab-df-buttons\">\n",
              "\n",
              "  <div class=\"colab-df-container\">\n",
              "    <button class=\"colab-df-convert\" onclick=\"convertToInteractive('df-c5e763fc-3d47-456c-a213-7d9012fb994a')\"\n",
              "            title=\"Convert this dataframe to an interactive table.\"\n",
              "            style=\"display:none;\">\n",
              "\n",
              "  <svg xmlns=\"http://www.w3.org/2000/svg\" height=\"24px\" viewBox=\"0 -960 960 960\">\n",
              "    <path d=\"M120-120v-720h720v720H120Zm60-500h600v-160H180v160Zm220 220h160v-160H400v160Zm0 220h160v-160H400v160ZM180-400h160v-160H180v160Zm440 0h160v-160H620v160ZM180-180h160v-160H180v160Zm440 0h160v-160H620v160Z\"/>\n",
              "  </svg>\n",
              "    </button>\n",
              "\n",
              "  <style>\n",
              "    .colab-df-container {\n",
              "      display:flex;\n",
              "      gap: 12px;\n",
              "    }\n",
              "\n",
              "    .colab-df-convert {\n",
              "      background-color: #E8F0FE;\n",
              "      border: none;\n",
              "      border-radius: 50%;\n",
              "      cursor: pointer;\n",
              "      display: none;\n",
              "      fill: #1967D2;\n",
              "      height: 32px;\n",
              "      padding: 0 0 0 0;\n",
              "      width: 32px;\n",
              "    }\n",
              "\n",
              "    .colab-df-convert:hover {\n",
              "      background-color: #E2EBFA;\n",
              "      box-shadow: 0px 1px 2px rgba(60, 64, 67, 0.3), 0px 1px 3px 1px rgba(60, 64, 67, 0.15);\n",
              "      fill: #174EA6;\n",
              "    }\n",
              "\n",
              "    .colab-df-buttons div {\n",
              "      margin-bottom: 4px;\n",
              "    }\n",
              "\n",
              "    [theme=dark] .colab-df-convert {\n",
              "      background-color: #3B4455;\n",
              "      fill: #D2E3FC;\n",
              "    }\n",
              "\n",
              "    [theme=dark] .colab-df-convert:hover {\n",
              "      background-color: #434B5C;\n",
              "      box-shadow: 0px 1px 3px 1px rgba(0, 0, 0, 0.15);\n",
              "      filter: drop-shadow(0px 1px 2px rgba(0, 0, 0, 0.3));\n",
              "      fill: #FFFFFF;\n",
              "    }\n",
              "  </style>\n",
              "\n",
              "    <script>\n",
              "      const buttonEl =\n",
              "        document.querySelector('#df-c5e763fc-3d47-456c-a213-7d9012fb994a button.colab-df-convert');\n",
              "      buttonEl.style.display =\n",
              "        google.colab.kernel.accessAllowed ? 'block' : 'none';\n",
              "\n",
              "      async function convertToInteractive(key) {\n",
              "        const element = document.querySelector('#df-c5e763fc-3d47-456c-a213-7d9012fb994a');\n",
              "        const dataTable =\n",
              "          await google.colab.kernel.invokeFunction('convertToInteractive',\n",
              "                                                    [key], {});\n",
              "        if (!dataTable) return;\n",
              "\n",
              "        const docLinkHtml = 'Like what you see? Visit the ' +\n",
              "          '<a target=\"_blank\" href=https://colab.research.google.com/notebooks/data_table.ipynb>data table notebook</a>'\n",
              "          + ' to learn more about interactive tables.';\n",
              "        element.innerHTML = '';\n",
              "        dataTable['output_type'] = 'display_data';\n",
              "        await google.colab.output.renderOutput(dataTable, element);\n",
              "        const docLink = document.createElement('div');\n",
              "        docLink.innerHTML = docLinkHtml;\n",
              "        element.appendChild(docLink);\n",
              "      }\n",
              "    </script>\n",
              "  </div>\n",
              "\n",
              "\n",
              "<div id=\"df-b06274d6-c983-4d9d-8977-02888d0afb8b\">\n",
              "  <button class=\"colab-df-quickchart\" onclick=\"quickchart('df-b06274d6-c983-4d9d-8977-02888d0afb8b')\"\n",
              "            title=\"Suggest charts\"\n",
              "            style=\"display:none;\">\n",
              "\n",
              "<svg xmlns=\"http://www.w3.org/2000/svg\" height=\"24px\"viewBox=\"0 0 24 24\"\n",
              "     width=\"24px\">\n",
              "    <g>\n",
              "        <path d=\"M19 3H5c-1.1 0-2 .9-2 2v14c0 1.1.9 2 2 2h14c1.1 0 2-.9 2-2V5c0-1.1-.9-2-2-2zM9 17H7v-7h2v7zm4 0h-2V7h2v10zm4 0h-2v-4h2v4z\"/>\n",
              "    </g>\n",
              "</svg>\n",
              "  </button>\n",
              "\n",
              "<style>\n",
              "  .colab-df-quickchart {\n",
              "      --bg-color: #E8F0FE;\n",
              "      --fill-color: #1967D2;\n",
              "      --hover-bg-color: #E2EBFA;\n",
              "      --hover-fill-color: #174EA6;\n",
              "      --disabled-fill-color: #AAA;\n",
              "      --disabled-bg-color: #DDD;\n",
              "  }\n",
              "\n",
              "  [theme=dark] .colab-df-quickchart {\n",
              "      --bg-color: #3B4455;\n",
              "      --fill-color: #D2E3FC;\n",
              "      --hover-bg-color: #434B5C;\n",
              "      --hover-fill-color: #FFFFFF;\n",
              "      --disabled-bg-color: #3B4455;\n",
              "      --disabled-fill-color: #666;\n",
              "  }\n",
              "\n",
              "  .colab-df-quickchart {\n",
              "    background-color: var(--bg-color);\n",
              "    border: none;\n",
              "    border-radius: 50%;\n",
              "    cursor: pointer;\n",
              "    display: none;\n",
              "    fill: var(--fill-color);\n",
              "    height: 32px;\n",
              "    padding: 0;\n",
              "    width: 32px;\n",
              "  }\n",
              "\n",
              "  .colab-df-quickchart:hover {\n",
              "    background-color: var(--hover-bg-color);\n",
              "    box-shadow: 0 1px 2px rgba(60, 64, 67, 0.3), 0 1px 3px 1px rgba(60, 64, 67, 0.15);\n",
              "    fill: var(--button-hover-fill-color);\n",
              "  }\n",
              "\n",
              "  .colab-df-quickchart-complete:disabled,\n",
              "  .colab-df-quickchart-complete:disabled:hover {\n",
              "    background-color: var(--disabled-bg-color);\n",
              "    fill: var(--disabled-fill-color);\n",
              "    box-shadow: none;\n",
              "  }\n",
              "\n",
              "  .colab-df-spinner {\n",
              "    border: 2px solid var(--fill-color);\n",
              "    border-color: transparent;\n",
              "    border-bottom-color: var(--fill-color);\n",
              "    animation:\n",
              "      spin 1s steps(1) infinite;\n",
              "  }\n",
              "\n",
              "  @keyframes spin {\n",
              "    0% {\n",
              "      border-color: transparent;\n",
              "      border-bottom-color: var(--fill-color);\n",
              "      border-left-color: var(--fill-color);\n",
              "    }\n",
              "    20% {\n",
              "      border-color: transparent;\n",
              "      border-left-color: var(--fill-color);\n",
              "      border-top-color: var(--fill-color);\n",
              "    }\n",
              "    30% {\n",
              "      border-color: transparent;\n",
              "      border-left-color: var(--fill-color);\n",
              "      border-top-color: var(--fill-color);\n",
              "      border-right-color: var(--fill-color);\n",
              "    }\n",
              "    40% {\n",
              "      border-color: transparent;\n",
              "      border-right-color: var(--fill-color);\n",
              "      border-top-color: var(--fill-color);\n",
              "    }\n",
              "    60% {\n",
              "      border-color: transparent;\n",
              "      border-right-color: var(--fill-color);\n",
              "    }\n",
              "    80% {\n",
              "      border-color: transparent;\n",
              "      border-right-color: var(--fill-color);\n",
              "      border-bottom-color: var(--fill-color);\n",
              "    }\n",
              "    90% {\n",
              "      border-color: transparent;\n",
              "      border-bottom-color: var(--fill-color);\n",
              "    }\n",
              "  }\n",
              "</style>\n",
              "\n",
              "  <script>\n",
              "    async function quickchart(key) {\n",
              "      const quickchartButtonEl =\n",
              "        document.querySelector('#' + key + ' button');\n",
              "      quickchartButtonEl.disabled = true;  // To prevent multiple clicks.\n",
              "      quickchartButtonEl.classList.add('colab-df-spinner');\n",
              "      try {\n",
              "        const charts = await google.colab.kernel.invokeFunction(\n",
              "            'suggestCharts', [key], {});\n",
              "      } catch (error) {\n",
              "        console.error('Error during call to suggestCharts:', error);\n",
              "      }\n",
              "      quickchartButtonEl.classList.remove('colab-df-spinner');\n",
              "      quickchartButtonEl.classList.add('colab-df-quickchart-complete');\n",
              "    }\n",
              "    (() => {\n",
              "      let quickchartButtonEl =\n",
              "        document.querySelector('#df-b06274d6-c983-4d9d-8977-02888d0afb8b button');\n",
              "      quickchartButtonEl.style.display =\n",
              "        google.colab.kernel.accessAllowed ? 'block' : 'none';\n",
              "    })();\n",
              "  </script>\n",
              "</div>\n",
              "    </div>\n",
              "  </div>\n"
            ]
          },
          "metadata": {},
          "execution_count": 42
        }
      ]
    },
    {
      "cell_type": "code",
      "source": [
        "variants_data=pd.read_csv('/content/drive/MyDrive/data cancer/training_variants/training_variants')"
      ],
      "metadata": {
        "id": "xojK5LzYEnJB"
      },
      "execution_count": 43,
      "outputs": []
    },
    {
      "cell_type": "code",
      "source": [
        "variants_data.head()"
      ],
      "metadata": {
        "colab": {
          "base_uri": "https://localhost:8080/",
          "height": 206
        },
        "id": "vS2GIM4gLMJi",
        "outputId": "a0b7d93b-1599-4b61-b700-5743d4990214"
      },
      "execution_count": 44,
      "outputs": [
        {
          "output_type": "execute_result",
          "data": {
            "text/plain": [
              "   ID    Gene             Variation  Class\n",
              "0   0  FAM58A  Truncating Mutations      1\n",
              "1   1     CBL                 W802*      2\n",
              "2   2     CBL                 Q249E      2\n",
              "3   3     CBL                 N454D      3\n",
              "4   4     CBL                 L399V      4"
            ],
            "text/html": [
              "\n",
              "  <div id=\"df-3520e0fd-9e95-46b2-a6b9-884285af89e2\" class=\"colab-df-container\">\n",
              "    <div>\n",
              "<style scoped>\n",
              "    .dataframe tbody tr th:only-of-type {\n",
              "        vertical-align: middle;\n",
              "    }\n",
              "\n",
              "    .dataframe tbody tr th {\n",
              "        vertical-align: top;\n",
              "    }\n",
              "\n",
              "    .dataframe thead th {\n",
              "        text-align: right;\n",
              "    }\n",
              "</style>\n",
              "<table border=\"1\" class=\"dataframe\">\n",
              "  <thead>\n",
              "    <tr style=\"text-align: right;\">\n",
              "      <th></th>\n",
              "      <th>ID</th>\n",
              "      <th>Gene</th>\n",
              "      <th>Variation</th>\n",
              "      <th>Class</th>\n",
              "    </tr>\n",
              "  </thead>\n",
              "  <tbody>\n",
              "    <tr>\n",
              "      <th>0</th>\n",
              "      <td>0</td>\n",
              "      <td>FAM58A</td>\n",
              "      <td>Truncating Mutations</td>\n",
              "      <td>1</td>\n",
              "    </tr>\n",
              "    <tr>\n",
              "      <th>1</th>\n",
              "      <td>1</td>\n",
              "      <td>CBL</td>\n",
              "      <td>W802*</td>\n",
              "      <td>2</td>\n",
              "    </tr>\n",
              "    <tr>\n",
              "      <th>2</th>\n",
              "      <td>2</td>\n",
              "      <td>CBL</td>\n",
              "      <td>Q249E</td>\n",
              "      <td>2</td>\n",
              "    </tr>\n",
              "    <tr>\n",
              "      <th>3</th>\n",
              "      <td>3</td>\n",
              "      <td>CBL</td>\n",
              "      <td>N454D</td>\n",
              "      <td>3</td>\n",
              "    </tr>\n",
              "    <tr>\n",
              "      <th>4</th>\n",
              "      <td>4</td>\n",
              "      <td>CBL</td>\n",
              "      <td>L399V</td>\n",
              "      <td>4</td>\n",
              "    </tr>\n",
              "  </tbody>\n",
              "</table>\n",
              "</div>\n",
              "    <div class=\"colab-df-buttons\">\n",
              "\n",
              "  <div class=\"colab-df-container\">\n",
              "    <button class=\"colab-df-convert\" onclick=\"convertToInteractive('df-3520e0fd-9e95-46b2-a6b9-884285af89e2')\"\n",
              "            title=\"Convert this dataframe to an interactive table.\"\n",
              "            style=\"display:none;\">\n",
              "\n",
              "  <svg xmlns=\"http://www.w3.org/2000/svg\" height=\"24px\" viewBox=\"0 -960 960 960\">\n",
              "    <path d=\"M120-120v-720h720v720H120Zm60-500h600v-160H180v160Zm220 220h160v-160H400v160Zm0 220h160v-160H400v160ZM180-400h160v-160H180v160Zm440 0h160v-160H620v160ZM180-180h160v-160H180v160Zm440 0h160v-160H620v160Z\"/>\n",
              "  </svg>\n",
              "    </button>\n",
              "\n",
              "  <style>\n",
              "    .colab-df-container {\n",
              "      display:flex;\n",
              "      gap: 12px;\n",
              "    }\n",
              "\n",
              "    .colab-df-convert {\n",
              "      background-color: #E8F0FE;\n",
              "      border: none;\n",
              "      border-radius: 50%;\n",
              "      cursor: pointer;\n",
              "      display: none;\n",
              "      fill: #1967D2;\n",
              "      height: 32px;\n",
              "      padding: 0 0 0 0;\n",
              "      width: 32px;\n",
              "    }\n",
              "\n",
              "    .colab-df-convert:hover {\n",
              "      background-color: #E2EBFA;\n",
              "      box-shadow: 0px 1px 2px rgba(60, 64, 67, 0.3), 0px 1px 3px 1px rgba(60, 64, 67, 0.15);\n",
              "      fill: #174EA6;\n",
              "    }\n",
              "\n",
              "    .colab-df-buttons div {\n",
              "      margin-bottom: 4px;\n",
              "    }\n",
              "\n",
              "    [theme=dark] .colab-df-convert {\n",
              "      background-color: #3B4455;\n",
              "      fill: #D2E3FC;\n",
              "    }\n",
              "\n",
              "    [theme=dark] .colab-df-convert:hover {\n",
              "      background-color: #434B5C;\n",
              "      box-shadow: 0px 1px 3px 1px rgba(0, 0, 0, 0.15);\n",
              "      filter: drop-shadow(0px 1px 2px rgba(0, 0, 0, 0.3));\n",
              "      fill: #FFFFFF;\n",
              "    }\n",
              "  </style>\n",
              "\n",
              "    <script>\n",
              "      const buttonEl =\n",
              "        document.querySelector('#df-3520e0fd-9e95-46b2-a6b9-884285af89e2 button.colab-df-convert');\n",
              "      buttonEl.style.display =\n",
              "        google.colab.kernel.accessAllowed ? 'block' : 'none';\n",
              "\n",
              "      async function convertToInteractive(key) {\n",
              "        const element = document.querySelector('#df-3520e0fd-9e95-46b2-a6b9-884285af89e2');\n",
              "        const dataTable =\n",
              "          await google.colab.kernel.invokeFunction('convertToInteractive',\n",
              "                                                    [key], {});\n",
              "        if (!dataTable) return;\n",
              "\n",
              "        const docLinkHtml = 'Like what you see? Visit the ' +\n",
              "          '<a target=\"_blank\" href=https://colab.research.google.com/notebooks/data_table.ipynb>data table notebook</a>'\n",
              "          + ' to learn more about interactive tables.';\n",
              "        element.innerHTML = '';\n",
              "        dataTable['output_type'] = 'display_data';\n",
              "        await google.colab.output.renderOutput(dataTable, element);\n",
              "        const docLink = document.createElement('div');\n",
              "        docLink.innerHTML = docLinkHtml;\n",
              "        element.appendChild(docLink);\n",
              "      }\n",
              "    </script>\n",
              "  </div>\n",
              "\n",
              "\n",
              "<div id=\"df-342ed418-3dd9-4f6c-8cb1-ce246ea64500\">\n",
              "  <button class=\"colab-df-quickchart\" onclick=\"quickchart('df-342ed418-3dd9-4f6c-8cb1-ce246ea64500')\"\n",
              "            title=\"Suggest charts\"\n",
              "            style=\"display:none;\">\n",
              "\n",
              "<svg xmlns=\"http://www.w3.org/2000/svg\" height=\"24px\"viewBox=\"0 0 24 24\"\n",
              "     width=\"24px\">\n",
              "    <g>\n",
              "        <path d=\"M19 3H5c-1.1 0-2 .9-2 2v14c0 1.1.9 2 2 2h14c1.1 0 2-.9 2-2V5c0-1.1-.9-2-2-2zM9 17H7v-7h2v7zm4 0h-2V7h2v10zm4 0h-2v-4h2v4z\"/>\n",
              "    </g>\n",
              "</svg>\n",
              "  </button>\n",
              "\n",
              "<style>\n",
              "  .colab-df-quickchart {\n",
              "      --bg-color: #E8F0FE;\n",
              "      --fill-color: #1967D2;\n",
              "      --hover-bg-color: #E2EBFA;\n",
              "      --hover-fill-color: #174EA6;\n",
              "      --disabled-fill-color: #AAA;\n",
              "      --disabled-bg-color: #DDD;\n",
              "  }\n",
              "\n",
              "  [theme=dark] .colab-df-quickchart {\n",
              "      --bg-color: #3B4455;\n",
              "      --fill-color: #D2E3FC;\n",
              "      --hover-bg-color: #434B5C;\n",
              "      --hover-fill-color: #FFFFFF;\n",
              "      --disabled-bg-color: #3B4455;\n",
              "      --disabled-fill-color: #666;\n",
              "  }\n",
              "\n",
              "  .colab-df-quickchart {\n",
              "    background-color: var(--bg-color);\n",
              "    border: none;\n",
              "    border-radius: 50%;\n",
              "    cursor: pointer;\n",
              "    display: none;\n",
              "    fill: var(--fill-color);\n",
              "    height: 32px;\n",
              "    padding: 0;\n",
              "    width: 32px;\n",
              "  }\n",
              "\n",
              "  .colab-df-quickchart:hover {\n",
              "    background-color: var(--hover-bg-color);\n",
              "    box-shadow: 0 1px 2px rgba(60, 64, 67, 0.3), 0 1px 3px 1px rgba(60, 64, 67, 0.15);\n",
              "    fill: var(--button-hover-fill-color);\n",
              "  }\n",
              "\n",
              "  .colab-df-quickchart-complete:disabled,\n",
              "  .colab-df-quickchart-complete:disabled:hover {\n",
              "    background-color: var(--disabled-bg-color);\n",
              "    fill: var(--disabled-fill-color);\n",
              "    box-shadow: none;\n",
              "  }\n",
              "\n",
              "  .colab-df-spinner {\n",
              "    border: 2px solid var(--fill-color);\n",
              "    border-color: transparent;\n",
              "    border-bottom-color: var(--fill-color);\n",
              "    animation:\n",
              "      spin 1s steps(1) infinite;\n",
              "  }\n",
              "\n",
              "  @keyframes spin {\n",
              "    0% {\n",
              "      border-color: transparent;\n",
              "      border-bottom-color: var(--fill-color);\n",
              "      border-left-color: var(--fill-color);\n",
              "    }\n",
              "    20% {\n",
              "      border-color: transparent;\n",
              "      border-left-color: var(--fill-color);\n",
              "      border-top-color: var(--fill-color);\n",
              "    }\n",
              "    30% {\n",
              "      border-color: transparent;\n",
              "      border-left-color: var(--fill-color);\n",
              "      border-top-color: var(--fill-color);\n",
              "      border-right-color: var(--fill-color);\n",
              "    }\n",
              "    40% {\n",
              "      border-color: transparent;\n",
              "      border-right-color: var(--fill-color);\n",
              "      border-top-color: var(--fill-color);\n",
              "    }\n",
              "    60% {\n",
              "      border-color: transparent;\n",
              "      border-right-color: var(--fill-color);\n",
              "    }\n",
              "    80% {\n",
              "      border-color: transparent;\n",
              "      border-right-color: var(--fill-color);\n",
              "      border-bottom-color: var(--fill-color);\n",
              "    }\n",
              "    90% {\n",
              "      border-color: transparent;\n",
              "      border-bottom-color: var(--fill-color);\n",
              "    }\n",
              "  }\n",
              "</style>\n",
              "\n",
              "  <script>\n",
              "    async function quickchart(key) {\n",
              "      const quickchartButtonEl =\n",
              "        document.querySelector('#' + key + ' button');\n",
              "      quickchartButtonEl.disabled = true;  // To prevent multiple clicks.\n",
              "      quickchartButtonEl.classList.add('colab-df-spinner');\n",
              "      try {\n",
              "        const charts = await google.colab.kernel.invokeFunction(\n",
              "            'suggestCharts', [key], {});\n",
              "      } catch (error) {\n",
              "        console.error('Error during call to suggestCharts:', error);\n",
              "      }\n",
              "      quickchartButtonEl.classList.remove('colab-df-spinner');\n",
              "      quickchartButtonEl.classList.add('colab-df-quickchart-complete');\n",
              "    }\n",
              "    (() => {\n",
              "      let quickchartButtonEl =\n",
              "        document.querySelector('#df-342ed418-3dd9-4f6c-8cb1-ce246ea64500 button');\n",
              "      quickchartButtonEl.style.display =\n",
              "        google.colab.kernel.accessAllowed ? 'block' : 'none';\n",
              "    })();\n",
              "  </script>\n",
              "</div>\n",
              "    </div>\n",
              "  </div>\n"
            ]
          },
          "metadata": {},
          "execution_count": 44
        }
      ]
    },
    {
      "cell_type": "code",
      "source": [
        "data=pd.merge(text_data,variants_data,on='ID',how='left')\n",
        "data=data.dropna(subset=['TEXT'])\n",
        "data.head()"
      ],
      "metadata": {
        "colab": {
          "base_uri": "https://localhost:8080/",
          "height": 206
        },
        "id": "sp6eElPMMdfn",
        "outputId": "81481f3b-4b89-4e94-8090-95d20585c296"
      },
      "execution_count": 45,
      "outputs": [
        {
          "output_type": "execute_result",
          "data": {
            "text/plain": [
              "   ID                                               TEXT    Gene  \\\n",
              "0   0  cyclin dependent kinases cdks regulate variety...  FAM58A   \n",
              "1   1  abstract background non small cell lung cancer...     CBL   \n",
              "2   2  abstract background non small cell lung cancer...     CBL   \n",
              "3   3  recent evidence demonstrated acquired uniparen...     CBL   \n",
              "4   4  oncogenic mutations monomeric casitas b lineag...     CBL   \n",
              "\n",
              "              Variation  Class  \n",
              "0  Truncating Mutations      1  \n",
              "1                 W802*      2  \n",
              "2                 Q249E      2  \n",
              "3                 N454D      3  \n",
              "4                 L399V      4  "
            ],
            "text/html": [
              "\n",
              "  <div id=\"df-236eda88-8e5d-4607-b703-65fec346446b\" class=\"colab-df-container\">\n",
              "    <div>\n",
              "<style scoped>\n",
              "    .dataframe tbody tr th:only-of-type {\n",
              "        vertical-align: middle;\n",
              "    }\n",
              "\n",
              "    .dataframe tbody tr th {\n",
              "        vertical-align: top;\n",
              "    }\n",
              "\n",
              "    .dataframe thead th {\n",
              "        text-align: right;\n",
              "    }\n",
              "</style>\n",
              "<table border=\"1\" class=\"dataframe\">\n",
              "  <thead>\n",
              "    <tr style=\"text-align: right;\">\n",
              "      <th></th>\n",
              "      <th>ID</th>\n",
              "      <th>TEXT</th>\n",
              "      <th>Gene</th>\n",
              "      <th>Variation</th>\n",
              "      <th>Class</th>\n",
              "    </tr>\n",
              "  </thead>\n",
              "  <tbody>\n",
              "    <tr>\n",
              "      <th>0</th>\n",
              "      <td>0</td>\n",
              "      <td>cyclin dependent kinases cdks regulate variety...</td>\n",
              "      <td>FAM58A</td>\n",
              "      <td>Truncating Mutations</td>\n",
              "      <td>1</td>\n",
              "    </tr>\n",
              "    <tr>\n",
              "      <th>1</th>\n",
              "      <td>1</td>\n",
              "      <td>abstract background non small cell lung cancer...</td>\n",
              "      <td>CBL</td>\n",
              "      <td>W802*</td>\n",
              "      <td>2</td>\n",
              "    </tr>\n",
              "    <tr>\n",
              "      <th>2</th>\n",
              "      <td>2</td>\n",
              "      <td>abstract background non small cell lung cancer...</td>\n",
              "      <td>CBL</td>\n",
              "      <td>Q249E</td>\n",
              "      <td>2</td>\n",
              "    </tr>\n",
              "    <tr>\n",
              "      <th>3</th>\n",
              "      <td>3</td>\n",
              "      <td>recent evidence demonstrated acquired uniparen...</td>\n",
              "      <td>CBL</td>\n",
              "      <td>N454D</td>\n",
              "      <td>3</td>\n",
              "    </tr>\n",
              "    <tr>\n",
              "      <th>4</th>\n",
              "      <td>4</td>\n",
              "      <td>oncogenic mutations monomeric casitas b lineag...</td>\n",
              "      <td>CBL</td>\n",
              "      <td>L399V</td>\n",
              "      <td>4</td>\n",
              "    </tr>\n",
              "  </tbody>\n",
              "</table>\n",
              "</div>\n",
              "    <div class=\"colab-df-buttons\">\n",
              "\n",
              "  <div class=\"colab-df-container\">\n",
              "    <button class=\"colab-df-convert\" onclick=\"convertToInteractive('df-236eda88-8e5d-4607-b703-65fec346446b')\"\n",
              "            title=\"Convert this dataframe to an interactive table.\"\n",
              "            style=\"display:none;\">\n",
              "\n",
              "  <svg xmlns=\"http://www.w3.org/2000/svg\" height=\"24px\" viewBox=\"0 -960 960 960\">\n",
              "    <path d=\"M120-120v-720h720v720H120Zm60-500h600v-160H180v160Zm220 220h160v-160H400v160Zm0 220h160v-160H400v160ZM180-400h160v-160H180v160Zm440 0h160v-160H620v160ZM180-180h160v-160H180v160Zm440 0h160v-160H620v160Z\"/>\n",
              "  </svg>\n",
              "    </button>\n",
              "\n",
              "  <style>\n",
              "    .colab-df-container {\n",
              "      display:flex;\n",
              "      gap: 12px;\n",
              "    }\n",
              "\n",
              "    .colab-df-convert {\n",
              "      background-color: #E8F0FE;\n",
              "      border: none;\n",
              "      border-radius: 50%;\n",
              "      cursor: pointer;\n",
              "      display: none;\n",
              "      fill: #1967D2;\n",
              "      height: 32px;\n",
              "      padding: 0 0 0 0;\n",
              "      width: 32px;\n",
              "    }\n",
              "\n",
              "    .colab-df-convert:hover {\n",
              "      background-color: #E2EBFA;\n",
              "      box-shadow: 0px 1px 2px rgba(60, 64, 67, 0.3), 0px 1px 3px 1px rgba(60, 64, 67, 0.15);\n",
              "      fill: #174EA6;\n",
              "    }\n",
              "\n",
              "    .colab-df-buttons div {\n",
              "      margin-bottom: 4px;\n",
              "    }\n",
              "\n",
              "    [theme=dark] .colab-df-convert {\n",
              "      background-color: #3B4455;\n",
              "      fill: #D2E3FC;\n",
              "    }\n",
              "\n",
              "    [theme=dark] .colab-df-convert:hover {\n",
              "      background-color: #434B5C;\n",
              "      box-shadow: 0px 1px 3px 1px rgba(0, 0, 0, 0.15);\n",
              "      filter: drop-shadow(0px 1px 2px rgba(0, 0, 0, 0.3));\n",
              "      fill: #FFFFFF;\n",
              "    }\n",
              "  </style>\n",
              "\n",
              "    <script>\n",
              "      const buttonEl =\n",
              "        document.querySelector('#df-236eda88-8e5d-4607-b703-65fec346446b button.colab-df-convert');\n",
              "      buttonEl.style.display =\n",
              "        google.colab.kernel.accessAllowed ? 'block' : 'none';\n",
              "\n",
              "      async function convertToInteractive(key) {\n",
              "        const element = document.querySelector('#df-236eda88-8e5d-4607-b703-65fec346446b');\n",
              "        const dataTable =\n",
              "          await google.colab.kernel.invokeFunction('convertToInteractive',\n",
              "                                                    [key], {});\n",
              "        if (!dataTable) return;\n",
              "\n",
              "        const docLinkHtml = 'Like what you see? Visit the ' +\n",
              "          '<a target=\"_blank\" href=https://colab.research.google.com/notebooks/data_table.ipynb>data table notebook</a>'\n",
              "          + ' to learn more about interactive tables.';\n",
              "        element.innerHTML = '';\n",
              "        dataTable['output_type'] = 'display_data';\n",
              "        await google.colab.output.renderOutput(dataTable, element);\n",
              "        const docLink = document.createElement('div');\n",
              "        docLink.innerHTML = docLinkHtml;\n",
              "        element.appendChild(docLink);\n",
              "      }\n",
              "    </script>\n",
              "  </div>\n",
              "\n",
              "\n",
              "<div id=\"df-f1f20655-e14a-4f4a-8c9a-960c61210bf1\">\n",
              "  <button class=\"colab-df-quickchart\" onclick=\"quickchart('df-f1f20655-e14a-4f4a-8c9a-960c61210bf1')\"\n",
              "            title=\"Suggest charts\"\n",
              "            style=\"display:none;\">\n",
              "\n",
              "<svg xmlns=\"http://www.w3.org/2000/svg\" height=\"24px\"viewBox=\"0 0 24 24\"\n",
              "     width=\"24px\">\n",
              "    <g>\n",
              "        <path d=\"M19 3H5c-1.1 0-2 .9-2 2v14c0 1.1.9 2 2 2h14c1.1 0 2-.9 2-2V5c0-1.1-.9-2-2-2zM9 17H7v-7h2v7zm4 0h-2V7h2v10zm4 0h-2v-4h2v4z\"/>\n",
              "    </g>\n",
              "</svg>\n",
              "  </button>\n",
              "\n",
              "<style>\n",
              "  .colab-df-quickchart {\n",
              "      --bg-color: #E8F0FE;\n",
              "      --fill-color: #1967D2;\n",
              "      --hover-bg-color: #E2EBFA;\n",
              "      --hover-fill-color: #174EA6;\n",
              "      --disabled-fill-color: #AAA;\n",
              "      --disabled-bg-color: #DDD;\n",
              "  }\n",
              "\n",
              "  [theme=dark] .colab-df-quickchart {\n",
              "      --bg-color: #3B4455;\n",
              "      --fill-color: #D2E3FC;\n",
              "      --hover-bg-color: #434B5C;\n",
              "      --hover-fill-color: #FFFFFF;\n",
              "      --disabled-bg-color: #3B4455;\n",
              "      --disabled-fill-color: #666;\n",
              "  }\n",
              "\n",
              "  .colab-df-quickchart {\n",
              "    background-color: var(--bg-color);\n",
              "    border: none;\n",
              "    border-radius: 50%;\n",
              "    cursor: pointer;\n",
              "    display: none;\n",
              "    fill: var(--fill-color);\n",
              "    height: 32px;\n",
              "    padding: 0;\n",
              "    width: 32px;\n",
              "  }\n",
              "\n",
              "  .colab-df-quickchart:hover {\n",
              "    background-color: var(--hover-bg-color);\n",
              "    box-shadow: 0 1px 2px rgba(60, 64, 67, 0.3), 0 1px 3px 1px rgba(60, 64, 67, 0.15);\n",
              "    fill: var(--button-hover-fill-color);\n",
              "  }\n",
              "\n",
              "  .colab-df-quickchart-complete:disabled,\n",
              "  .colab-df-quickchart-complete:disabled:hover {\n",
              "    background-color: var(--disabled-bg-color);\n",
              "    fill: var(--disabled-fill-color);\n",
              "    box-shadow: none;\n",
              "  }\n",
              "\n",
              "  .colab-df-spinner {\n",
              "    border: 2px solid var(--fill-color);\n",
              "    border-color: transparent;\n",
              "    border-bottom-color: var(--fill-color);\n",
              "    animation:\n",
              "      spin 1s steps(1) infinite;\n",
              "  }\n",
              "\n",
              "  @keyframes spin {\n",
              "    0% {\n",
              "      border-color: transparent;\n",
              "      border-bottom-color: var(--fill-color);\n",
              "      border-left-color: var(--fill-color);\n",
              "    }\n",
              "    20% {\n",
              "      border-color: transparent;\n",
              "      border-left-color: var(--fill-color);\n",
              "      border-top-color: var(--fill-color);\n",
              "    }\n",
              "    30% {\n",
              "      border-color: transparent;\n",
              "      border-left-color: var(--fill-color);\n",
              "      border-top-color: var(--fill-color);\n",
              "      border-right-color: var(--fill-color);\n",
              "    }\n",
              "    40% {\n",
              "      border-color: transparent;\n",
              "      border-right-color: var(--fill-color);\n",
              "      border-top-color: var(--fill-color);\n",
              "    }\n",
              "    60% {\n",
              "      border-color: transparent;\n",
              "      border-right-color: var(--fill-color);\n",
              "    }\n",
              "    80% {\n",
              "      border-color: transparent;\n",
              "      border-right-color: var(--fill-color);\n",
              "      border-bottom-color: var(--fill-color);\n",
              "    }\n",
              "    90% {\n",
              "      border-color: transparent;\n",
              "      border-bottom-color: var(--fill-color);\n",
              "    }\n",
              "  }\n",
              "</style>\n",
              "\n",
              "  <script>\n",
              "    async function quickchart(key) {\n",
              "      const quickchartButtonEl =\n",
              "        document.querySelector('#' + key + ' button');\n",
              "      quickchartButtonEl.disabled = true;  // To prevent multiple clicks.\n",
              "      quickchartButtonEl.classList.add('colab-df-spinner');\n",
              "      try {\n",
              "        const charts = await google.colab.kernel.invokeFunction(\n",
              "            'suggestCharts', [key], {});\n",
              "      } catch (error) {\n",
              "        console.error('Error during call to suggestCharts:', error);\n",
              "      }\n",
              "      quickchartButtonEl.classList.remove('colab-df-spinner');\n",
              "      quickchartButtonEl.classList.add('colab-df-quickchart-complete');\n",
              "    }\n",
              "    (() => {\n",
              "      let quickchartButtonEl =\n",
              "        document.querySelector('#df-f1f20655-e14a-4f4a-8c9a-960c61210bf1 button');\n",
              "      quickchartButtonEl.style.display =\n",
              "        google.colab.kernel.accessAllowed ? 'block' : 'none';\n",
              "    })();\n",
              "  </script>\n",
              "</div>\n",
              "    </div>\n",
              "  </div>\n"
            ]
          },
          "metadata": {},
          "execution_count": 45
        }
      ]
    },
    {
      "cell_type": "code",
      "source": [
        "y_actual=data['Class'].values\n",
        "data.Gene=data.Gene.replace('\\s+','_')\n",
        "data.Variation=data.Variation.replace('\\s+','_')\n"
      ],
      "metadata": {
        "id": "6tKGVdueMpD9"
      },
      "execution_count": 46,
      "outputs": []
    },
    {
      "cell_type": "code",
      "source": [
        "from sklearn.model_selection import train_test_split\n",
        "X_train,X_test,Y_train,Y_test=train_test_split(data,y_actual,stratify=y_actual,test_size=0.2)\n",
        "train_df,train_cv,y_train,y_cv=train_test_split(X_train,Y_train,stratify=Y_train)"
      ],
      "metadata": {
        "id": "oU_pWF6CTpU_"
      },
      "execution_count": 47,
      "outputs": []
    },
    {
      "cell_type": "markdown",
      "source": [
        "# Check the distribution\n"
      ],
      "metadata": {
        "id": "80gCSNxbdJqT"
      }
    },
    {
      "cell_type": "code",
      "source": [
        "import matplotlib.pyplot as plt\n",
        "counts=train_df['Class'].value_counts()\n",
        "counts_cv=train_cv['Class'].value_counts()\n",
        "counts_test=X_test['Class'].value_counts()\n",
        "\n",
        "plt.bar(counts.index,counts.values)\n",
        "plt.show()\n",
        "plt.bar(counts_cv.index,counts_cv.values)\n",
        "plt.show()\n",
        "plt.bar(counts_test.index,counts_test.values)\n",
        "\n",
        "plt.show()"
      ],
      "metadata": {
        "colab": {
          "base_uri": "https://localhost:8080/",
          "height": 1000
        },
        "id": "NF--CXN_TqT5",
        "outputId": "9f8bfa58-7340-4392-91f4-ecb949b5e813"
      },
      "execution_count": 48,
      "outputs": [
        {
          "output_type": "display_data",
          "data": {
            "text/plain": [
              "<Figure size 640x480 with 1 Axes>"
            ],
            "image/png": "[encoded data removed]"
          },
          "metadata": {}
        },
        {
          "output_type": "display_data",
          "data": {
            "text/plain": [
              "<Figure size 640x480 with 1 Axes>"
            ],
            "image/png": "[encoded data removed]"
          },
          "metadata": {}
        },
        {
          "output_type": "display_data",
          "data": {
            "text/plain": [
              "<Figure size 640x480 with 1 Axes>"
            ],
            "image/png": "[encoded data removed]"
          },
          "metadata": {}
        }
      ]
    },
    {
      "cell_type": "markdown",
      "source": [
        "# Build the random model"
      ],
      "metadata": {
        "id": "IRTNCTdsdODm"
      }
    },
    {
      "cell_type": "code",
      "source": [
        "from sklearn.metrics import confusion_matrix,ConfusionMatrixDisplay\n",
        "def cm(test_y,test_pred):\n",
        "  cm=confusion_matrix(test_y,test_pred)\n",
        "  disp=ConfusionMatrixDisplay(cm,display_labels=[1,2,3,4,5,6,7,8,9])\n",
        "  disp.plot()\n",
        "  A=((cm.T)/((cm.sum(axis=1)).T))\n",
        "  B=(cm/cm.sum(axis=0))\n",
        "  disp=ConfusionMatrixDisplay(A,display_labels=[1,2,3,4,5,6,7,8,9])\n",
        "  disp.plot()\n",
        "  disp=ConfusionMatrixDisplay(B,display_labels=[1,2,3,4,5,6,7,8,9])\n",
        "  disp.plot()"
      ],
      "metadata": {
        "id": "5Ew8aKcTdHLV"
      },
      "execution_count": 49,
      "outputs": []
    },
    {
      "cell_type": "code",
      "source": [
        "import numpy as np\n",
        "np.random.rand(1,9)/np.sum(np.random.rand(1,9)[0])"
      ],
      "metadata": {
        "colab": {
          "base_uri": "https://localhost:8080/"
        },
        "id": "VzNZfVldXZMk",
        "outputId": "24a8cffc-4f4f-4c17-8a0b-17f261b9b58d"
      },
      "execution_count": 50,
      "outputs": [
        {
          "output_type": "execute_result",
          "data": {
            "text/plain": [
              "array([[0.083209  , 0.08671747, 0.22064262, 0.15299525, 0.25680445,\n",
              "        0.12693556, 0.19786661, 0.01695661, 0.19101374]])"
            ]
          },
          "metadata": {},
          "execution_count": 50
        }
      ]
    },
    {
      "cell_type": "code",
      "source": [
        "from sklearn.metrics import log_loss\n",
        "test_data_len=X_test.shape[0]\n",
        "cv_data_len=train_cv.shape[0]\n",
        "cv_prd=np.zeros((cv_data_len,9))\n",
        "for i in range(cv_data_len):\n",
        "  prob=np.random.rand(1,9)\n",
        "  cv_prd[i]=((prob/(np.sum(prob)))[0])\n",
        "print(\"Random model logloss for validatio set is \"),+ log_loss(y_cv,cv_prd,eps=1e-15)"
      ],
      "metadata": {
        "colab": {
          "base_uri": "https://localhost:8080/"
        },
        "id": "kLrePkMIY8Bv",
        "outputId": "d79a1d98-2e61-4ae5-e707-e16ae42724c6"
      },
      "execution_count": 51,
      "outputs": [
        {
          "output_type": "stream",
          "name": "stdout",
          "text": [
            "Random model logloss for validatio set is \n"
          ]
        },
        {
          "output_type": "execute_result",
          "data": {
            "text/plain": [
              "(None, 2.473896068313774)"
            ]
          },
          "metadata": {},
          "execution_count": 51
        }
      ]
    },
    {
      "cell_type": "code",
      "source": [
        "\n",
        "test_prd=np.zeros((test_data_len,9))\n",
        "for i in range(test_data_len):\n",
        "  prob_test=np.random.rand(1,9)\n",
        "  test_prd[i]=((prob_test/(np.sum(prob_test)))[0])\n",
        "print(\"Random model logloss for validatio set is \"),+ log_loss(Y_test,test_prd,eps=1e-15)"
      ],
      "metadata": {
        "colab": {
          "base_uri": "https://localhost:8080/"
        },
        "id": "A89aksD-f7Kk",
        "outputId": "55cb8d7a-5fa2-4e4f-ebfa-b1e194c6a2ee"
      },
      "execution_count": 52,
      "outputs": [
        {
          "output_type": "stream",
          "name": "stdout",
          "text": [
            "Random model logloss for validatio set is \n"
          ]
        },
        {
          "output_type": "execute_result",
          "data": {
            "text/plain": [
              "(None, 2.47820729667072)"
            ]
          },
          "metadata": {},
          "execution_count": 52
        }
      ]
    },
    {
      "cell_type": "code",
      "source": [
        "y_predicted=np.argmax(test_prd,axis=1)\n",
        "cm(Y_test,y_predicted+1)"
      ],
      "metadata": {
        "colab": {
          "base_uri": "https://localhost:8080/",
          "height": 1000
        },
        "id": "LxmrACAShid5",
        "outputId": "7b0ddcba-8d4b-4d35-bdcf-4127ae01b9dd"
      },
      "execution_count": 53,
      "outputs": [
        {
          "output_type": "display_data",
          "data": {
            "text/plain": [
              "<Figure size 640x480 with 2 Axes>"
            ],
            "image/png": "[encoded data removed]"
          },
          "metadata": {}
        },
        {
          "output_type": "display_data",
          "data": {
            "text/plain": [
              "<Figure size 640x480 with 2 Axes>"
            ],
            "image/png": "[encoded data removed]"
          },
          "metadata": {}
        },
        {
          "output_type": "display_data",
          "data": {
            "text/plain": [
              "<Figure size 640x480 with 2 Axes>"
            ],
            "image/png": "[encoded data removed]"
          },
          "metadata": {}
        }
      ]
    },
    {
      "cell_type": "markdown",
      "source": [
        "# Univar analysis"
      ],
      "metadata": {
        "id": "lsU3O2FDp-YW"
      }
    },
    {
      "cell_type": "code",
      "source": [
        "gene_feat= train_df['Gene'].value_counts()\n",
        "print('gene total no.=',gene_feat.shape[0])\n",
        "print('count of each of it is =')\n",
        "gene_feat.head(10)"
      ],
      "metadata": {
        "colab": {
          "base_uri": "https://localhost:8080/"
        },
        "id": "sk_WnZbvlKSW",
        "outputId": "ffcb3a21-eaca-459f-d2cf-7d551e23c595"
      },
      "execution_count": 54,
      "outputs": [
        {
          "output_type": "stream",
          "name": "stdout",
          "text": [
            "gene total no.= 225\n",
            "count of each of it is =\n"
          ]
        },
        {
          "output_type": "execute_result",
          "data": {
            "text/plain": [
              "BRCA1     168\n",
              "TP53      101\n",
              "PTEN       76\n",
              "EGFR       75\n",
              "BRCA2      72\n",
              "KIT        59\n",
              "BRAF       59\n",
              "ERBB2      40\n",
              "ALK        40\n",
              "PDGFRA     35\n",
              "Name: Gene, dtype: int64"
            ]
          },
          "metadata": {},
          "execution_count": 54
        }
      ]
    },
    {
      "cell_type": "code",
      "source": [
        "s=sum(gene_feat.values)\n",
        "h=gene_feat.values/s\n",
        "plt.plot(h)\n",
        "plt.show()\n",
        "c=np.cumsum(h)\n",
        "plt.plot(c)\n",
        "plt.show()"
      ],
      "metadata": {
        "colab": {
          "base_uri": "https://localhost:8080/",
          "height": 843
        },
        "id": "8L84XcHcqeTq",
        "outputId": "1d2d9dad-0a57-4c8d-b636-c05b5db1e396"
      },
      "execution_count": 55,
      "outputs": [
        {
          "output_type": "display_data",
          "data": {
            "text/plain": [
              "<Figure size 640x480 with 1 Axes>"
            ],
            "image/png": "[encoded data removed]"
          },
          "metadata": {}
        },
        {
          "output_type": "display_data",
          "data": {
            "text/plain": [
              "<Figure size 640x480 with 1 Axes>"
            ],
            "image/png": "[encoded data removed]"
          },
          "metadata": {}
        }
      ]
    },
    {
      "cell_type": "code",
      "source": [
        "sum(gene_feat.values)"
      ],
      "metadata": {
        "colab": {
          "base_uri": "https://localhost:8080/"
        },
        "id": "LOCtrSrUrhVB",
        "outputId": "9ec8f53d-8694-432c-ebc9-81a290c2a997"
      },
      "execution_count": 56,
      "outputs": [
        {
          "output_type": "execute_result",
          "data": {
            "text/plain": [
              "1989"
            ]
          },
          "metadata": {},
          "execution_count": 56
        }
      ]
    },
    {
      "cell_type": "markdown",
      "source": [
        "# Univar Variation analysis"
      ],
      "metadata": {
        "id": "wFA8xv4rvAM9"
      }
    },
    {
      "cell_type": "code",
      "source": [
        "unique_var=train_df['Variation'].value_counts()\n",
        "print('unique variation count is', unique_var.shape[0])"
      ],
      "metadata": {
        "colab": {
          "base_uri": "https://localhost:8080/"
        },
        "id": "6iPTC429rl24",
        "outputId": "c0dd6b50-7e12-4e0b-ee78-981961ffa6f9"
      },
      "execution_count": 57,
      "outputs": [
        {
          "output_type": "stream",
          "name": "stdout",
          "text": [
            "unique variation count is 1811\n"
          ]
        }
      ]
    },
    {
      "cell_type": "code",
      "source": [
        "unique_var"
      ],
      "metadata": {
        "colab": {
          "base_uri": "https://localhost:8080/"
        },
        "id": "FUTPQS1BtxQN",
        "outputId": "cc0ae243-b102-4279-b469-e9d4d85a0bd4"
      },
      "execution_count": 58,
      "outputs": [
        {
          "output_type": "execute_result",
          "data": {
            "text/plain": [
              "Truncating Mutations    56\n",
              "Deletion                49\n",
              "Amplification           38\n",
              "Fusions                 21\n",
              "Overexpression           3\n",
              "                        ..\n",
              "S267_D273dup             1\n",
              "T340A                    1\n",
              "R1751P                   1\n",
              "P168T                    1\n",
              "A57V                     1\n",
              "Name: Variation, Length: 1811, dtype: int64"
            ]
          },
          "metadata": {},
          "execution_count": 58
        }
      ]
    },
    {
      "cell_type": "code",
      "source": [
        "train_df.shape"
      ],
      "metadata": {
        "colab": {
          "base_uri": "https://localhost:8080/"
        },
        "id": "TXg7ZZz7vR_Z",
        "outputId": "a9e94f4c-c1de-4fcc-a2bc-e327a69a3f7f"
      },
      "execution_count": 59,
      "outputs": [
        {
          "output_type": "execute_result",
          "data": {
            "text/plain": [
              "(1989, 5)"
            ]
          },
          "metadata": {},
          "execution_count": 59
        }
      ]
    },
    {
      "cell_type": "code",
      "source": [
        "s= sum(unique_var.values)\n",
        "h=unique_var/s\n",
        "plt.plot(h)\n",
        "plt.show()\n",
        "c=np.cumsum(h)\n",
        "plt.plot(c)\n",
        "plt.show()"
      ],
      "metadata": {
        "colab": {
          "base_uri": "https://localhost:8080/",
          "height": 843
        },
        "id": "5idiLhPzvxhF",
        "outputId": "e978d1b3-8071-4a45-9bf1-0416d7fabcb6"
      },
      "execution_count": 60,
      "outputs": [
        {
          "output_type": "display_data",
          "data": {
            "text/plain": [
              "<Figure size 640x480 with 1 Axes>"
            ],
            "image/png": "[encoded data removed]"
          },
          "metadata": {}
        },
        {
          "output_type": "display_data",
          "data": {
            "text/plain": [
              "<Figure size 640x480 with 1 Axes>"
            ],
            "image/png": "[encoded data removed]"
          },
          "metadata": {}
        }
      ]
    },
    {
      "cell_type": "markdown",
      "source": [
        "# Building model for gene and variation for feature"
      ],
      "metadata": {
        "id": "AxtzjtKo17LR"
      }
    },
    {
      "cell_type": "code",
      "source": [
        "data.loc[(data['Class']==1)&(data['Gene']=='BRCA1')].shape"
      ],
      "metadata": {
        "colab": {
          "base_uri": "https://localhost:8080/"
        },
        "id": "xeA7g6hCIvjZ",
        "outputId": "8b80fa92-2764-4794-f4be-93946985398f"
      },
      "execution_count": 61,
      "outputs": [
        {
          "output_type": "execute_result",
          "data": {
            "text/plain": [
              "(60, 5)"
            ]
          },
          "metadata": {},
          "execution_count": 61
        }
      ]
    },
    {
      "cell_type": "code",
      "source": [
        "#train_df.loc[(train_df['Class']==1)& (train_df['Gene']=='BRCA1')].shape[0]\n",
        "\n",
        "\"\"\"a=train_df['Gene'].value_counts().items()\n",
        "for i,b in a:\n",
        "  print(b)\"\"\"\n",
        "\n",
        "\n",
        "def response_coding_dict(alpha,feature,data):\n",
        "  feature_dict=dict()\n",
        "  for i, j in data[feature].value_counts().items():\n",
        "    vec_prob=[]\n",
        "    for k in range(1,10):\n",
        "      class_locate= data.loc[(data['Class']==k)&(data[feature]==i)]\n",
        "      vec_prob.append((class_locate.shape[0] + 10*alpha)/ (j + 90 * alpha))\n",
        "    feature_dict[i]=vec_prob\n",
        "  return feature_dict\n",
        "def response_coding(alpha,feature,data):\n",
        "  response_dict=response_coding_dict(alpha,feature,data)\n",
        "  dict_to_compare=data[feature].value_counts()\n",
        "  response_coded=[]\n",
        "  for _, row in data.iterrows():\n",
        "    if row[feature] in dict(dict_to_compare).keys():\n",
        "      response_coded.append(response_dict[row[feature]])\n",
        "    else:\n",
        "      response_coded.append([1/9,1/9,1/9,1/9,1/9,1/9,1/9,1/9,1/9])\n",
        "  return response_coded"
      ],
      "metadata": {
        "id": "pXzc2iuS163y"
      },
      "execution_count": 62,
      "outputs": []
    },
    {
      "cell_type": "code",
      "source": [
        "training_response_coded_gene= np.array(response_coding(1,\"Gene\",train_df))\n",
        "val_response_coded_gene=np.array(response_coding(1,\"Gene\",train_cv))\n",
        "test_response_coded_gene=np.array(response_coding(1,\"Gene\",X_test))"
      ],
      "metadata": {
        "id": "zMOtK0wEwzgN"
      },
      "execution_count": 63,
      "outputs": []
    },
    {
      "cell_type": "code",
      "source": [
        "from sklearn.linear_model import SGDClassifier as sgd\n",
        "from sklearn.calibration import CalibratedClassifierCV as cc\n",
        "from sklearn.metrics import log_loss\n",
        "alpha =[10**x for x in range(-5,1)]\n",
        "log_error=[]\n",
        "for i in alpha:\n",
        "  model=sgd(alpha=1,penalty='l2',loss='log_loss')\n",
        "  model.fit(training_response_coded_gene,y_train)\n",
        "  model_cc=cc(model,method='sigmoid')\n",
        "  model_cc.fit(training_response_coded_gene,y_train)\n",
        "  predict_y=model_cc.predict_proba(val_response_coded_gene)\n",
        "  log_error.append(log_loss(y_cv,predict_y,labels=model.classes_))\n"
      ],
      "metadata": {
        "id": "-kJlHVGpNX29"
      },
      "execution_count": 64,
      "outputs": []
    },
    {
      "cell_type": "code",
      "source": [],
      "metadata": {
        "id": "EskchPq3NX0Y"
      },
      "execution_count": 64,
      "outputs": []
    },
    {
      "cell_type": "code",
      "source": [
        "\n",
        "best_alpha=np.min(log_error)\n",
        "model=sgd(alpha=best_alpha,penalty='l2',loss='log_loss')\n",
        "model.fit(training_response_coded_gene,y_train)\n",
        "model_cc=cc(model,method='sigmoid')\n",
        "model_cc.fit(training_response_coded_gene,y_train)\n",
        "predict_y=model_cc.predict_proba(training_response_coded_gene)\n",
        "print(\"for best alpha logloss is \",log_loss(y_train,predict_y,labels=model.classes_))\n",
        "predict_y=model_cc.predict_proba(val_response_coded_gene)\n",
        "print(\"for best alpha logloss is \",log_loss(y_cv,predict_y,labels=model.classes_))\n",
        "predict_y=model_cc.predict_proba(test_response_coded_gene)\n",
        "print(\"for best alpha logloss is \",log_loss(Y_test,predict_y,labels=model.classes_))"
      ],
      "metadata": {
        "colab": {
          "base_uri": "https://localhost:8080/"
        },
        "id": "VlE6vQj6NXxk",
        "outputId": "065f473a-f3d4-458e-c075-75424e498a1f"
      },
      "execution_count": 65,
      "outputs": [
        {
          "output_type": "stream",
          "name": "stdout",
          "text": [
            "for best alpha logloss is  1.3302333333183314\n",
            "for best alpha logloss is  1.4667470949914458\n",
            "for best alpha logloss is  1.4642851921397397\n"
          ]
        }
      ]
    },
    {
      "cell_type": "code",
      "source": [],
      "metadata": {
        "id": "X_r-e_LoNXqJ"
      },
      "execution_count": 65,
      "outputs": []
    },
    {
      "cell_type": "code",
      "source": [
        "training_response_coded_var= np.array(response_coding(1,\"Variation\",train_df))\n",
        "val_response_coded_var=np.array(response_coding(1,\"Variation\",train_cv))\n",
        "test_response_coded_var=np.array(response_coding(1,\"Variation\",X_test))"
      ],
      "metadata": {
        "id": "ofBEY3r44C61"
      },
      "execution_count": 66,
      "outputs": []
    },
    {
      "cell_type": "code",
      "source": [
        "from sklearn.linear_model import SGDClassifier as sgd\n",
        "from sklearn.calibration import CalibratedClassifierCV as cc\n",
        "from sklearn.metrics import log_loss\n",
        "alpha =[10**x for x in range(-5,1)]\n",
        "log_error=[]\n",
        "for i in alpha:\n",
        "  model=sgd(alpha=1,penalty='l2',loss='log_loss')\n",
        "  model.fit(training_response_coded_var,y_train)\n",
        "  model_cc=cc(model,method='sigmoid')\n",
        "  model_cc.fit(training_response_coded_var,y_train)\n",
        "  predict_y=model_cc.predict_proba(val_response_coded_var)\n",
        "  log_error.append(log_loss(y_cv,predict_y,labels=model.classes_))\n"
      ],
      "metadata": {
        "id": "Gi-6dQ8G9wXv"
      },
      "execution_count": 67,
      "outputs": []
    },
    {
      "cell_type": "code",
      "source": [
        "best_alpha=np.min(log_error)\n",
        "model=sgd(alpha=best_alpha,penalty='l2',loss='log_loss')\n",
        "model.fit(training_response_coded_var,y_train)\n",
        "model_cc=cc(model,method='sigmoid')\n",
        "model_cc.fit(training_response_coded_var,y_train)\n",
        "predict_y=model_cc.predict_proba(training_response_coded_var)\n",
        "print(\"for best alpha logloss is \",log_loss(y_train,predict_y,labels=model.classes_))\n",
        "predict_y=model_cc.predict_proba(val_response_coded_var)\n",
        "print(\"for best alpha logloss is \",log_loss(y_cv,predict_y,labels=model.classes_))\n",
        "predict_y=model_cc.predict_proba(test_response_coded_var)\n",
        "print(\"for best alpha logloss is \",log_loss(Y_test,predict_y,labels=model.classes_))"
      ],
      "metadata": {
        "colab": {
          "base_uri": "https://localhost:8080/"
        },
        "id": "KJJWBsjjJejg",
        "outputId": "91a5ef06-c431-44e2-b1ed-be3278209594"
      },
      "execution_count": 68,
      "outputs": [
        {
          "output_type": "stream",
          "name": "stdout",
          "text": [
            "for best alpha logloss is  0.933559740706388\n",
            "for best alpha logloss is  1.0450282486919846\n",
            "for best alpha logloss is  0.9812366828360779\n"
          ]
        }
      ]
    },
    {
      "cell_type": "markdown",
      "source": [
        "# Text preprocessing"
      ],
      "metadata": {
        "id": "JW9bag2YMWgt"
      }
    },
    {
      "cell_type": "code",
      "source": [
        "\"\"\"training_response_coded_text= np.array(response_coding(1,\"TEXT\",train_df))\n",
        "val_response_coded_text=np.array(response_coding(1,\"TEXT\",train_cv))\n",
        "test_response_coded_text=np.array(response_coding(1,\"TEXT\",X_test))\"\"\""
      ],
      "metadata": {
        "colab": {
          "base_uri": "https://localhost:8080/",
          "height": 53
        },
        "id": "TZoYboPCJ2n6",
        "outputId": "2328ffcc-c6ac-4f05-b18d-23eefbfa118f"
      },
      "execution_count": 69,
      "outputs": [
        {
          "output_type": "execute_result",
          "data": {
            "text/plain": [
              "'training_response_coded_text= np.array(response_coding(1,\"TEXT\",train_df))\\nval_response_coded_text=np.array(response_coding(1,\"TEXT\",train_cv))\\ntest_response_coded_text=np.array(response_coding(1,\"TEXT\",X_test))'"
            ],
            "application/vnd.google.colaboratory.intrinsic+json": {
              "type": "string"
            }
          },
          "metadata": {},
          "execution_count": 69
        }
      ]
    },
    {
      "cell_type": "code",
      "source": [
        "from sklearn.feature_extraction.text import TfidfVectorizer\n",
        "from sklearn.preprocessing import normalize\n",
        "vectorizer=TfidfVectorizer(min_df=3)\n",
        "tfidf_train=vectorizer.fit_transform(train_df['TEXT'])\n",
        "tfidf_train=normalize(tfidf_train,axis=0)\n",
        "tfidf_cv=vectorizer.transform(train_cv['TEXT'])\n",
        "tfidf_cv=normalize(tfidf_cv,axis=0)\n",
        "tfidf_test=vectorizer.transform(X_test['TEXT'])\n",
        "tfidf_test=normalize(tfidf_test,axis=0)\n",
        "\n",
        "\n",
        "'''\n",
        "\n",
        "def term_freq(text):\n",
        "  term_cnt=defaultdict(int)\n",
        "  for i in text.split():\n",
        "    term_cnt[i]+=1\n",
        "  total_word=len(text.split())\n",
        "  for i in term_cnt:\n",
        "    term_cnt[i]=(term_cnt[i]/total_word)\n",
        "  return term_cnt\n",
        "\n",
        "def inverse_doc_freq(document):\n",
        "  corpus_len=len(document)\n",
        "  term_cnt=defaultdict(lambda: 0)\n",
        "  for i in document:\n",
        "    for j in set(i.split()):\n",
        "      term_cnt[j]+=1\n",
        "  for i,j in term_cnt.items():\n",
        "    term_cnt[i]=math.log(corpus_len/( j+1))\n",
        "  return term_cnt\n",
        "\n",
        "def tfidf(document):\n",
        "  idf=inverse_doc_freq(document)\n",
        "  tfidf_vec=[]\n",
        "  for i in document:\n",
        "    tf=term_freq(i)\n",
        "    tfidf={}\n",
        "    for i,j in tf.items():\n",
        "      tfidf[i]=j*idf[i]\n",
        "    tfidf_vec.append(tfidf)\n",
        "  return tfidf_vec\n",
        "  '''\n",
        "\n"
      ],
      "metadata": {
        "colab": {
          "base_uri": "https://localhost:8080/",
          "height": 105
        },
        "id": "qvIiTToIl_VD",
        "outputId": "0041dfe8-068a-489a-cb5b-f16321ff360a"
      },
      "execution_count": 70,
      "outputs": [
        {
          "output_type": "execute_result",
          "data": {
            "text/plain": [
              "'\\n\\ndef term_freq(text):\\n  term_cnt=defaultdict(int)\\n  for i in text.split():\\n    term_cnt[i]+=1\\n  total_word=len(text.split())\\n  for i in term_cnt:\\n    term_cnt[i]=(term_cnt[i]/total_word)\\n  return term_cnt\\n\\ndef inverse_doc_freq(document):\\n  corpus_len=len(document)\\n  term_cnt=defaultdict(lambda: 0)\\n  for i in document:\\n    for j in set(i.split()):\\n      term_cnt[j]+=1\\n  for i,j in term_cnt.items():\\n    term_cnt[i]=math.log(corpus_len/( j+1))\\n  return term_cnt\\n\\ndef tfidf(document):\\n  idf=inverse_doc_freq(document)\\n  tfidf_vec=[]\\n  for i in document:\\n    tf=term_freq(i)\\n    tfidf={}\\n    for i,j in tf.items():\\n      tfidf[i]=j*idf[i]\\n    tfidf_vec.append(tfidf)\\n  return tfidf_vec\\n  '"
            ],
            "application/vnd.google.colaboratory.intrinsic+json": {
              "type": "string"
            }
          },
          "metadata": {},
          "execution_count": 70
        }
      ]
    },
    {
      "cell_type": "code",
      "source": [
        "from sklearn.linear_model import SGDClassifier as sgd\n",
        "from sklearn.calibration import CalibratedClassifierCV as cc\n",
        "from sklearn.metrics import log_loss\n",
        "alpha =[10**x for x in range(-5,1)]\n",
        "log_error=[]\n",
        "for i in alpha:\n",
        "  model=sgd(alpha=1,penalty='l2',loss='log_loss')\n",
        "  model.fit(tfidf_train,y_train)\n",
        "  model_cc=cc(model,method='sigmoid')\n",
        "  model_cc.fit(tfidf_train,y_train)\n",
        "  predict_y=model_cc.predict_proba(tfidf_cv)\n",
        "  log_error.append(log_loss(y_cv,predict_y,labels=model.classes_))\n",
        "best_alpha=np.min(log_error)\n",
        "model=sgd(alpha=best_alpha,penalty='l2',loss='log_loss')\n",
        "model.fit(tfidf_train,y_train)\n",
        "model_cc=cc(model,method='sigmoid')\n",
        "model_cc.fit(tfidf_train,y_train)\n",
        "predict_y=model_cc.predict_proba(tfidf_train)\n",
        "print(\"for best alpha logloss is \",log_loss(y_train,predict_y,labels=model.classes_))\n",
        "predict_y=model_cc.predict_proba(tfidf_cv)\n",
        "print(\"for best alpha logloss is \",log_loss(y_cv,predict_y,labels=model.classes_))\n",
        "predict_y=model_cc.predict_proba(tfidf_test)\n",
        "print(\"for best alpha logloss is \",log_loss(Y_test,predict_y,labels=model.classes_))"
      ],
      "metadata": {
        "colab": {
          "base_uri": "https://localhost:8080/"
        },
        "id": "wTpKWB9mttEP",
        "outputId": "43956426-e0b1-4d07-a6a1-9807ab5e0298"
      },
      "execution_count": 71,
      "outputs": [
        {
          "output_type": "stream",
          "name": "stdout",
          "text": [
            "for best alpha logloss is  1.3794917909655058\n",
            "for best alpha logloss is  1.5471312270865427\n",
            "for best alpha logloss is  1.5657674504558734\n"
          ]
        }
      ]
    },
    {
      "cell_type": "markdown",
      "source": [
        "# Stacking the features"
      ],
      "metadata": {
        "id": "4SlCSx-fOWrG"
      }
    },
    {
      "cell_type": "code",
      "source": [
        "from scipy.sparse import hstack\n",
        "from scipy.sparse import csr_matrix\n",
        "\n",
        "\"\"\"training_response_coded_gene=csr_matrix(training_response_coded_gene.reshape(-1, 1))\n",
        "training_response_coded_var=csr_matrix(training_response_coded_var.reshape(-1, 1))\n",
        "\"\"\"\n",
        "gene_var_train=np.hstack((training_response_coded_gene,training_response_coded_var))\n",
        "print\n",
        "Xtrain=hstack((tfidf_train,gene_var_train))\n",
        "y_train=np.array(list(train_df['Class']))\n",
        "\n",
        "gene_var_cv= np.hstack((val_response_coded_gene,val_response_coded_var))\n",
        "Xcv= hstack((tfidf_cv,gene_var_cv))\n",
        "y_cv=np.array(list(train_cv['Class']))\n",
        "\n",
        "gene_var_test= np.hstack((test_response_coded_gene,test_response_coded_var))\n",
        "Xtest= hstack((tfidf_test,gene_var_test))\n",
        "y_test=np.array(list(X_test['Class']))"
      ],
      "metadata": {
        "id": "tdu9abbGO1RH"
      },
      "execution_count": 71,
      "outputs": []
    },
    {
      "cell_type": "code",
      "source": [],
      "metadata": {
        "id": "BdfsoGjQOWMP"
      },
      "execution_count": 71,
      "outputs": []
    },
    {
      "cell_type": "code",
      "source": [],
      "metadata": {
        "id": "mldsztfLOWIR"
      },
      "execution_count": 71,
      "outputs": []
    },
    {
      "cell_type": "code",
      "source": [],
      "metadata": {
        "id": "T8t2nYZUOWET"
      },
      "execution_count": 71,
      "outputs": []
    },
    {
      "cell_type": "markdown",
      "source": [
        "# Building a baseline model"
      ],
      "metadata": {
        "id": "mrRPY5D5FVwb"
      }
    },
    {
      "cell_type": "code",
      "source": [
        "\n"
      ],
      "metadata": {
        "id": "w-OuOnmAFVSB"
      },
      "execution_count": 72,
      "outputs": []
    },
    {
      "cell_type": "code",
      "source": [
        "from sklearn.naive_bayes import MultinomialNB\n",
        "alpha =[10**x for x in range(-5,4)]\n",
        "log_error=[]\n",
        "for i in alpha:\n",
        "  model=MultinomialNB(alpha=i)\n",
        "  model.fit(Xtrain,y_train)\n",
        "  model_cc=cc(model,method='sigmoid')\n",
        "  model_cc.fit(Xtrain,y_train)\n",
        "  predict_y=model_cc.predict_proba(Xcv)\n",
        "  log_error.append(log_loss(y_cv,predict_y,labels=model.classes_))\n",
        "best_alpha=np.min(log_error)\n",
        "model=MultinomialNB(alpha=best_alpha)\n",
        "model.fit(Xtrain,y_train)\n",
        "model_cc=cc(model,method='sigmoid')\n",
        "model_cc.fit(Xtrain,y_train)\n",
        "predict_y=model_cc.predict_proba(Xtrain)\n",
        "print(\"for best alpha logloss is \",log_loss(y_train,predict_y,labels=model.classes_))\n",
        "predict_y=model_cc.predict_proba(Xcv)\n",
        "print(\"for best alpha logloss is \",log_loss(y_cv,predict_y,labels=model.classes_))\n",
        "predict_y=model_cc.predict_proba(Xtest)\n",
        "print(\"for best alpha logloss is \",log_loss(y_test,predict_y,labels=model.classes_))"
      ],
      "metadata": {
        "colab": {
          "base_uri": "https://localhost:8080/"
        },
        "id": "Dw1-T7XVvWxO",
        "outputId": "57f08650-e88c-4685-f467-c09fcdf382e1"
      },
      "execution_count": 73,
      "outputs": [
        {
          "output_type": "stream",
          "name": "stdout",
          "text": [
            "for best alpha logloss is  0.960177024811169\n",
            "for best alpha logloss is  1.334513084149742\n",
            "for best alpha logloss is  1.3273926511905234\n"
          ]
        }
      ]
    },
    {
      "cell_type": "markdown",
      "source": [
        "# Feature importance feature collection"
      ],
      "metadata": {
        "id": "4sgHpP4SkPpz"
      }
    },
    {
      "cell_type": "code",
      "source": [
        "from enum import EnumMeta\n",
        "from sklearn.feature_extraction.text import CountVectorizer\n",
        "def feature_importance(indice_of_feature,Gene,Var,Text,no_of_feat):\n",
        "  gene_vec_count=CountVectorizer()\n",
        "  var_vec_count=CountVectorizer()\n",
        "  text_vec_count=CountVectorizer(min_df=3)\n",
        "  gene_vec=gene_vec_count.fit(train_df['Gene'])\n",
        "  var_vec=var_vec_count.fit(train_df['Variation'])\n",
        "  text_vec=text_vec_count.fit(train_df['TEXT'])\n",
        "  gene_feat_len=len(gene_vec.get_feature_names())\n",
        "  var_feat_len=len(var_vec.get_feature_names())\n",
        "  word_count=0\n",
        "  for index, feature in enumerate(indice_of_feature):\n",
        "    if feature <  gene_feat_len:\n",
        "      gene_feature_name=gene_vec.get_feature_names()[feature]\n",
        "      ispresent= Gene==gene_feat_len\n",
        "      if ispresent:\n",
        "        word_count+=1\n",
        "        print(\"this gene feature is responsible for prediction ->\",gene_feature_name)\n",
        "    elif feature < gene_feat_len+var_feat_len:\n",
        "      var_feature_name=var_vec.get_feature_names()[feature-gene_feat_len]\n",
        "      ispresent= Var==var_feature_name\n",
        "      if ispresent:\n",
        "        word_count+=1\n",
        "        print(\"this variation feature is responsible for prediction\",var_feature_name)\n",
        "    else:\n",
        "      text_feature_name=text_vec.get_feature_name()[feature-(gene_feat_len+var_feat_len)]\n",
        "      ispresent= text_feature_name in Text.split()\n",
        "      if ispresent:\n",
        "        word_count+=1\n",
        "        print(\"this text feature is responsible for prediction\",text_feature_name)\n",
        "  print(\"from the top feature: \",word_count,\"feature are present in query point\")"
      ],
      "metadata": {
        "id": "xw-5OWhSt1KK"
      },
      "execution_count": 76,
      "outputs": []
    },
    {
      "cell_type": "markdown",
      "source": [
        "# Logistic regresion"
      ],
      "metadata": {
        "id": "C6MscCHg8PSZ"
      }
    },
    {
      "cell_type": "code",
      "source": [
        "from sklearn.preprocessing import StandardScaler, MinMaxScaler\n",
        "from sklearn.linear_model import SGDClassifier as sgd\n",
        "from sklearn.calibration import CalibratedClassifierCV as cc\n",
        "from sklearn.metrics import log_loss\n",
        "import numpy as np\n",
        "\n",
        "# Scaling the data\n",
        "scaler = StandardScaler(with_mean=False) # or MinMaxScaler()\n",
        "Xtrain = scaler.fit_transform(Xtrain)\n",
        "Xcv = scaler.transform(Xcv)\n",
        "Xtest = scaler.transform(Xtest)\n",
        "\n",
        "alpha=[1**alpha for alpha in range(-5,2)]\n",
        "log_error=[]\n",
        "for i in alpha:\n",
        "  model=sgd(alpha=i,penalty=\"l2\",loss=\"log_loss\")\n",
        "  model.fit(Xtrain,y_train)\n",
        "  model_cc=cc(model,method=\"sigmoid\")\n",
        "  model_cc.fit(Xtrain,y_train)\n",
        "  y_pred=model_cc.predict_proba(Xcv)\n",
        "  log_error.append(log_loss(y_cv,y_pred,labels=model.classes_))\n",
        "\n",
        "best_alpha=np.min(log_error)\n",
        "model=sgd(alpha=best_alpha,penalty=\"l2\",loss=\"log_loss\")\n",
        "model.fit(Xtrain,y_train)\n",
        "model_cc=cc(model,method=\"sigmoid\")\n",
        "model_cc.fit(Xtrain,y_train)\n",
        "y_pred=model_cc.predict_proba(Xtrain)\n",
        "print(\"logloss for for best alpha thats is \",best_alpha,\"is\",log_loss(y_train,y_pred,labels=model.classes_))\n",
        "\n",
        "y_pred=model_cc.predict_proba(Xcv)\n",
        "print(\"logloss for for best alpha thats is \",best_alpha,\"is\",log_loss(y_cv,y_pred,labels=model.classes_))\n",
        "\n",
        "y_pred=model_cc.predict_proba(Xtest)\n",
        "print(\"logloss for for best alpha thats is \",best_alpha,\"is\",log_loss(y_test,y_pred,labels=model.classes_))\n"
      ],
      "metadata": {
        "id": "16yVJZwBvScv",
        "colab": {
          "base_uri": "https://localhost:8080/"
        },
        "outputId": "ead45e98-ec10-42b7-9833-27190898b3e6"
      },
      "execution_count": 84,
      "outputs": [
        {
          "output_type": "stream",
          "name": "stdout",
          "text": [
            "logloss for for best alpha thats is  1.0901731340973915 is 0.5550678286602044\n",
            "logloss for for best alpha thats is  1.0901731340973915 is 1.0928258005112557\n",
            "logloss for for best alpha thats is  1.0901731340973915 is 1.0407516325302666\n"
          ]
        }
      ]
    },
    {
      "cell_type": "code",
      "source": [
        "\n",
        "# Scaling the data\n",
        "scaler = StandardScaler(with_mean=False) # or MinMaxScaler()\n",
        "Xtrain = scaler.fit_transform(Xtrain)\n",
        "Xcv = scaler.transform(Xcv)\n",
        "Xtest = scaler.transform(Xtest)\n",
        "\n",
        "alpha=[1**alpha for alpha in range(-5,2)]\n",
        "log_error=[]\n",
        "for i in alpha:\n",
        "  model=sgd(alpha=i,penalty=\"l2\",loss=\"log_loss\",class_weight=\"balanced\")\n",
        "  model.fit(Xtrain,y_train)\n",
        "  model_cc=cc(model,method=\"sigmoid\")\n",
        "  model_cc.fit(Xtrain,y_train)\n",
        "  y_pred=model_cc.predict_proba(Xcv)\n",
        "  log_error.append(log_loss(y_cv,y_pred,labels=model.classes_))\n",
        "\n",
        "best_alpha=np.min(log_error)\n",
        "model=sgd(alpha=best_alpha,penalty=\"l2\",loss=\"log_loss\",class_weight=\"balanced\")\n",
        "model.fit(Xtrain,y_train)\n",
        "model_cc=cc(model,method=\"sigmoid\")\n",
        "model_cc.fit(Xtrain,y_train)\n",
        "y_pred=model_cc.predict_proba(Xtrain)\n",
        "print(\"logloss for for best alpha thats is \",best_alpha,\"is\",log_loss(y_train,y_pred,labels=model.classes_))\n",
        "\n",
        "y_pred=model_cc.predict_proba(Xcv)\n",
        "print(\"logloss for for best alpha thats is \",best_alpha,\"is\",log_loss(y_cv,y_pred,labels=model.classes_))\n",
        "\n",
        "y_pred=model_cc.predict_proba(Xtest)\n",
        "print(\"logloss for for best alpha thats is \",best_alpha,\"is\",log_loss(y_test,y_pred,labels=model.classes_))\n"
      ],
      "metadata": {
        "colab": {
          "base_uri": "https://localhost:8080/"
        },
        "id": "K9o5l4GbLDCZ",
        "outputId": "11f8c242-55a9-4b38-a271-9de6dc05d63f"
      },
      "execution_count": 85,
      "outputs": [
        {
          "output_type": "stream",
          "name": "stdout",
          "text": [
            "logloss for for best alpha thats is  1.0953748073610903 is 0.5589290447018446\n",
            "logloss for for best alpha thats is  1.0953748073610903 is 1.1006062123206402\n",
            "logloss for for best alpha thats is  1.0953748073610903 is 1.0479100403285793\n"
          ]
        }
      ]
    },
    {
      "cell_type": "code",
      "source": [
        "predict_for_one_index=model_cc.predict_proba(Xtest[19])\n",
        "indices=np.argsort(-model.coef_)[predict_for_one_index -1][:,:500]\n",
        "feature_importance(indices,X_test['Gene'].iloc[19],X_test['Variation'].iloc[19],X_test['TEXT'].iloc[19],500)"
      ],
      "metadata": {
        "id": "nhRpAbNgMBXT",
        "colab": {
          "base_uri": "https://localhost:8080/",
          "height": 212
        },
        "outputId": "040baeb5-630a-44c6-e38c-c6c1a16e3927"
      },
      "execution_count": 87,
      "outputs": [
        {
          "output_type": "error",
          "ename": "IndexError",
          "evalue": "arrays used as indices must be of integer (or boolean) type",
          "traceback": [
            "\u001b[0;31m---------------------------------------------------------------------------\u001b[0m",
            "\u001b[0;31mIndexError\u001b[0m                                Traceback (most recent call last)",
            "\u001b[0;32m<ipython-input-87-e95d257e90cc>\u001b[0m in \u001b[0;36m<cell line: 2>\u001b[0;34m()\u001b[0m\n\u001b[1;32m      1\u001b[0m \u001b[0mpredict_for_one_index\u001b[0m\u001b[0;34m=\u001b[0m\u001b[0mmodel_cc\u001b[0m\u001b[0;34m.\u001b[0m\u001b[0mpredict_proba\u001b[0m\u001b[0;34m(\u001b[0m\u001b[0mXtest\u001b[0m\u001b[0;34m[\u001b[0m\u001b[0;36m19\u001b[0m\u001b[0;34m]\u001b[0m\u001b[0;34m)\u001b[0m\u001b[0;34m\u001b[0m\u001b[0;34m\u001b[0m\u001b[0m\n\u001b[0;32m----> 2\u001b[0;31m \u001b[0mindices\u001b[0m\u001b[0;34m=\u001b[0m\u001b[0mnp\u001b[0m\u001b[0;34m.\u001b[0m\u001b[0margsort\u001b[0m\u001b[0;34m(\u001b[0m\u001b[0;34m-\u001b[0m\u001b[0mmodel\u001b[0m\u001b[0;34m.\u001b[0m\u001b[0mcoef_\u001b[0m\u001b[0;34m)\u001b[0m\u001b[0;34m[\u001b[0m\u001b[0mpredict_for_one_index\u001b[0m\u001b[0;34m-\u001b[0m\u001b[0;36m1\u001b[0m\u001b[0;34m]\u001b[0m\u001b[0;34m[\u001b[0m\u001b[0;34m:\u001b[0m\u001b[0;34m,\u001b[0m\u001b[0;34m:\u001b[0m\u001b[0;36m500\u001b[0m\u001b[0;34m]\u001b[0m\u001b[0;34m\u001b[0m\u001b[0;34m\u001b[0m\u001b[0m\n\u001b[0m\u001b[1;32m      3\u001b[0m \u001b[0mfeature_importance\u001b[0m\u001b[0;34m(\u001b[0m\u001b[0mindices\u001b[0m\u001b[0;34m,\u001b[0m\u001b[0mX_test\u001b[0m\u001b[0;34m[\u001b[0m\u001b[0;34m'Gene'\u001b[0m\u001b[0;34m]\u001b[0m\u001b[0;34m.\u001b[0m\u001b[0miloc\u001b[0m\u001b[0;34m[\u001b[0m\u001b[0;36m19\u001b[0m\u001b[0;34m]\u001b[0m\u001b[0;34m,\u001b[0m\u001b[0mX_test\u001b[0m\u001b[0;34m[\u001b[0m\u001b[0;34m'Variation'\u001b[0m\u001b[0;34m]\u001b[0m\u001b[0;34m.\u001b[0m\u001b[0miloc\u001b[0m\u001b[0;34m[\u001b[0m\u001b[0;36m19\u001b[0m\u001b[0;34m]\u001b[0m\u001b[0;34m,\u001b[0m\u001b[0mX_test\u001b[0m\u001b[0;34m[\u001b[0m\u001b[0;34m'TEXT'\u001b[0m\u001b[0;34m]\u001b[0m\u001b[0;34m.\u001b[0m\u001b[0miloc\u001b[0m\u001b[0;34m[\u001b[0m\u001b[0;36m19\u001b[0m\u001b[0;34m]\u001b[0m\u001b[0;34m,\u001b[0m\u001b[0;36m500\u001b[0m\u001b[0;34m)\u001b[0m\u001b[0;34m\u001b[0m\u001b[0;34m\u001b[0m\u001b[0m\n",
            "\u001b[0;31mIndexError\u001b[0m: arrays used as indices must be of integer (or boolean) type"
          ]
        }
      ]
    },
    {
      "cell_type": "code",
      "source": [
        "predict_for_one_index"
      ],
      "metadata": {
        "colab": {
          "base_uri": "https://localhost:8080/"
        },
        "id": "Fz-0BxQUN3SU",
        "outputId": "ef4457ac-f5a1-497b-dc92-56ce42c465fd"
      },
      "execution_count": 88,
      "outputs": [
        {
          "output_type": "execute_result",
          "data": {
            "text/plain": [
              "array([[0.78401872, 0.01981698, 0.00546269, 0.12476039, 0.02147851,\n",
              "        0.008305  , 0.02634134, 0.00560814, 0.00420824]])"
            ]
          },
          "metadata": {},
          "execution_count": 88
        }
      ]
    },
    {
      "cell_type": "code",
      "source": [],
      "metadata": {
        "id": "LHvyOsciOZcr"
      },
      "execution_count": null,
      "outputs": []
    }
  ]
}